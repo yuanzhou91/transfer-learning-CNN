{
 "cells": [
  {
   "cell_type": "code",
   "execution_count": 1,
   "metadata": {
    "scrolled": false
   },
   "outputs": [
    {
     "name": "stdout",
     "output_type": "stream",
     "text": [
      "--2020-08-24 08:35:30--  http://cs231n.stanford.edu/tiny-imagenet-200.zip\n",
      "Resolving cs231n.stanford.edu (cs231n.stanford.edu)... 171.64.68.10\n",
      "Connecting to cs231n.stanford.edu (cs231n.stanford.edu)|171.64.68.10|:80... connected.\n",
      "HTTP request sent, awaiting response... 200 OK\n",
      "Length: 248100043 (237M) [application/zip]\n",
      "Saving to: ‘tiny-imagenet-200.zip.2’\n",
      "\n",
      "tiny-imagenet-200.z 100%[===================>] 236.61M  31.9MB/s    in 12s     \n",
      "\n",
      "2020-08-24 08:35:47 (19.3 MB/s) - ‘tiny-imagenet-200.zip.2’ saved [248100043/248100043]\n",
      "\n"
     ]
    }
   ],
   "source": [
    "!wget http://cs231n.stanford.edu/tiny-imagenet-200.zip\n",
    "!unzip -o -qq 'tiny-imagenet-200.zip'\n"
   ]
  },
  {
   "cell_type": "code",
   "execution_count": 1,
   "metadata": {},
   "outputs": [],
   "source": [
    "from tensorflow import keras\n",
    "import os,sys\n",
    "from matplotlib import pyplot\n",
    "import pandas as pd\n",
    "\n",
    "from tensorflow.keras.models import Sequential, Model\n",
    "from tensorflow.keras.layers import Dense, Conv2D, MaxPool2D , Flatten, MaxPooling2D\n",
    "from tensorflow.keras.optimizers import Adam, SGD\n",
    "from tensorflow.keras.preprocessing.image import ImageDataGenerator\n",
    "from tensorflow.keras.callbacks import ModelCheckpoint, EarlyStopping\n",
    "\n",
    "import numpy as np"
   ]
  },
  {
   "cell_type": "code",
   "execution_count": 2,
   "metadata": {
    "scrolled": true
   },
   "outputs": [
    {
     "data": {
      "text/html": [
       "<div>\n",
       "<style scoped>\n",
       "    .dataframe tbody tr th:only-of-type {\n",
       "        vertical-align: middle;\n",
       "    }\n",
       "\n",
       "    .dataframe tbody tr th {\n",
       "        vertical-align: top;\n",
       "    }\n",
       "\n",
       "    .dataframe thead th {\n",
       "        text-align: right;\n",
       "    }\n",
       "</style>\n",
       "<table border=\"1\" class=\"dataframe\">\n",
       "  <thead>\n",
       "    <tr style=\"text-align: right;\">\n",
       "      <th></th>\n",
       "      <th>File</th>\n",
       "      <th>Class</th>\n",
       "    </tr>\n",
       "  </thead>\n",
       "  <tbody>\n",
       "    <tr>\n",
       "      <th>0</th>\n",
       "      <td>val_0.JPEG</td>\n",
       "      <td>n03444034</td>\n",
       "    </tr>\n",
       "    <tr>\n",
       "      <th>1</th>\n",
       "      <td>val_1.JPEG</td>\n",
       "      <td>n04067472</td>\n",
       "    </tr>\n",
       "    <tr>\n",
       "      <th>2</th>\n",
       "      <td>val_2.JPEG</td>\n",
       "      <td>n04070727</td>\n",
       "    </tr>\n",
       "  </tbody>\n",
       "</table>\n",
       "</div>"
      ],
      "text/plain": [
       "         File      Class\n",
       "0  val_0.JPEG  n03444034\n",
       "1  val_1.JPEG  n04067472\n",
       "2  val_2.JPEG  n04070727"
      ]
     },
     "execution_count": 2,
     "metadata": {},
     "output_type": "execute_result"
    }
   ],
   "source": [
    "val_data = pd.read_csv('./tiny-imagenet-200/val/val_annotations.txt', sep='\\t', header=None, names=['File', 'Class', 'X', 'Y', 'H', 'W'])\n",
    "val_data.drop(['X', 'Y', 'H', 'W'], axis=1, inplace=True)\n",
    "val_data.head(3)\n"
   ]
  },
  {
   "cell_type": "code",
   "execution_count": 7,
   "metadata": {},
   "outputs": [],
   "source": [
    "# define a cnn model with four VGG blocks\n",
    "def define_four_blocks_model():\n",
    "    model = Sequential()\n",
    "    model.add(Conv2D(64, (3, 3), activation='relu', kernel_initializer='he_uniform', padding='same', input_shape=(64, 64, 3)))\n",
    "    model.add(Conv2D(64, (3, 3), activation='relu', kernel_initializer='he_uniform', padding='same'))\n",
    "    model.add(MaxPooling2D((2, 2)))\n",
    "    model.add(Conv2D(128, (3, 3), activation='relu', kernel_initializer='he_uniform', padding='same'))\n",
    "    model.add(Conv2D(128, (3, 3), activation='relu', kernel_initializer='he_uniform', padding='same'))\n",
    "    model.add(MaxPooling2D((2, 2)))\n",
    "    model.add(Conv2D(256, (3, 3), activation='relu', kernel_initializer='he_uniform', padding='same'))\n",
    "    model.add(Conv2D(256, (3, 3), activation='relu', kernel_initializer='he_uniform', padding='same'))\n",
    "    model.add(MaxPooling2D((2, 2)))\n",
    "    model.add(Conv2D(512, (3, 3), activation='relu', kernel_initializer='he_uniform', padding='same'))\n",
    "    model.add(Conv2D(512, (3, 3), activation='relu', kernel_initializer='he_uniform', padding='same'))\n",
    "    model.add(MaxPooling2D((2, 2)))\n",
    "    model.add(Flatten())\n",
    "    model.add(Dense(1024, activation='relu'))\n",
    "    model.add(Dense(200, activation='softmax'))\n",
    "    model.summary()\n",
    "    return model"
   ]
  },
  {
   "cell_type": "code",
   "execution_count": 8,
   "metadata": {},
   "outputs": [],
   "source": [
    "# plot diagnostic learning curves\n",
    "def summarize_diagnostics(history):\n",
    "    # plot loss\n",
    "    pyplot.subplot(211)\n",
    "    pyplot.title('Cross Entropy Loss')\n",
    "    pyplot.plot(history.history['loss'], color='blue', label='train')\n",
    "    pyplot.plot(history.history['val_loss'], color='orange', label='test')\n",
    "    # plot accuracy\n",
    "    pyplot.subplot(212)\n",
    "    pyplot.title('Classification Accuracy')\n",
    "    pyplot.plot(history.history['accuracy'], color='blue', label='train')\n",
    "    pyplot.plot(history.history['val_accuracy'], color='orange', label='test')\n",
    "    # save plot to file\n",
    "    filename = sys.argv[0].split('/')[-1]\n",
    "    pyplot.savefig(filename + '_plot.png')\n",
    "    pyplot.show()\n",
    "    pyplot.close()\n"
   ]
  },
  {
   "cell_type": "code",
   "execution_count": 9,
   "metadata": {},
   "outputs": [],
   "source": [
    "# run the test harness for evaluating a model\n",
    "def run_test_harness(model):\n",
    "    # compile model\n",
    "    model.compile(loss='categorical_crossentropy',optimizer='adam',\n",
    "              metrics=['accuracy'])\n",
    "    # create data generators\n",
    "    train_datagen = ImageDataGenerator(rescale=1.0/255.0,\n",
    "        width_shift_range=0.1, height_shift_range=0.1, horizontal_flip=True)\n",
    "    test_datagen = ImageDataGenerator(rescale=1.0/255.0)\n",
    "    # prepare iterators\n",
    "    train_it = train_datagen.flow_from_directory( r'./tiny-imagenet-200/train/', target_size=(64, 64), color_mode='rgb', \n",
    "                                                 batch_size=256, class_mode='categorical', shuffle=True, seed=42)\n",
    "\n",
    "    test_it = test_datagen.flow_from_dataframe(val_data, directory='./tiny-imagenet-200/val/images/', x_col='File', y_col='Class', target_size=(64, 64),\n",
    "                                                    color_mode='rgb', class_mode='categorical', batch_size=256, shuffle=True, seed=42)\n",
    "\n",
    "    # Create EarlyStopping callback which stopps after 5 epochs of non-increasing accuracy\n",
    "    early = EarlyStopping(monitor='val_accuracy', min_delta=0, patience=10, verbose=1, mode='auto')\n",
    "    # fit model\n",
    "    history = model.fit(train_it, steps_per_epoch=390,\n",
    "        validation_data=test_it, validation_steps=20, epochs=25, callbacks=[early])\n",
    "    # evaluate model\n",
    "    _, acc = model.evaluate(test_it, steps=len(test_it))\n",
    "    print('Test Accuracy > %.3f' % (acc * 100.0))\n",
    "    # learning curves\n",
    "    summarize_diagnostics(history)\n"
   ]
  },
  {
   "cell_type": "code",
   "execution_count": 10,
   "metadata": {
    "scrolled": true
   },
   "outputs": [
    {
     "name": "stdout",
     "output_type": "stream",
     "text": [
      "Model: \"sequential_1\"\n",
      "_________________________________________________________________\n",
      "Layer (type)                 Output Shape              Param #   \n",
      "=================================================================\n",
      "conv2d_8 (Conv2D)            (None, 64, 64, 64)        1792      \n",
      "_________________________________________________________________\n",
      "conv2d_9 (Conv2D)            (None, 64, 64, 64)        36928     \n",
      "_________________________________________________________________\n",
      "max_pooling2d_4 (MaxPooling2 (None, 32, 32, 64)        0         \n",
      "_________________________________________________________________\n",
      "conv2d_10 (Conv2D)           (None, 32, 32, 128)       73856     \n",
      "_________________________________________________________________\n",
      "conv2d_11 (Conv2D)           (None, 32, 32, 128)       147584    \n",
      "_________________________________________________________________\n",
      "max_pooling2d_5 (MaxPooling2 (None, 16, 16, 128)       0         \n",
      "_________________________________________________________________\n",
      "conv2d_12 (Conv2D)           (None, 16, 16, 256)       295168    \n",
      "_________________________________________________________________\n",
      "conv2d_13 (Conv2D)           (None, 16, 16, 256)       590080    \n",
      "_________________________________________________________________\n",
      "max_pooling2d_6 (MaxPooling2 (None, 8, 8, 256)         0         \n",
      "_________________________________________________________________\n",
      "conv2d_14 (Conv2D)           (None, 8, 8, 512)         1180160   \n",
      "_________________________________________________________________\n",
      "conv2d_15 (Conv2D)           (None, 8, 8, 512)         2359808   \n",
      "_________________________________________________________________\n",
      "max_pooling2d_7 (MaxPooling2 (None, 4, 4, 512)         0         \n",
      "_________________________________________________________________\n",
      "flatten_1 (Flatten)          (None, 8192)              0         \n",
      "_________________________________________________________________\n",
      "dense_2 (Dense)              (None, 1024)              8389632   \n",
      "_________________________________________________________________\n",
      "dense_3 (Dense)              (None, 200)               205000    \n",
      "=================================================================\n",
      "Total params: 13,280,008\n",
      "Trainable params: 13,280,008\n",
      "Non-trainable params: 0\n",
      "_________________________________________________________________\n",
      "Found 100000 images belonging to 200 classes.\n",
      "Found 10000 validated image filenames belonging to 200 classes.\n",
      "Epoch 1/25\n",
      "390/390 [==============================] - 756s 2s/step - loss: 4.9641 - accuracy: 0.0320 - val_loss: 4.5792 - val_accuracy: 0.0678\n",
      "Epoch 2/25\n",
      "390/390 [==============================] - 755s 2s/step - loss: 4.1305 - accuracy: 0.1219 - val_loss: 3.8007 - val_accuracy: 0.1650\n",
      "Epoch 3/25\n",
      "390/390 [==============================] - 756s 2s/step - loss: 3.6122 - accuracy: 0.1998 - val_loss: 3.6020 - val_accuracy: 0.2016\n",
      "Epoch 4/25\n",
      "390/390 [==============================] - 756s 2s/step - loss: 3.2565 - accuracy: 0.2591 - val_loss: 3.1497 - val_accuracy: 0.2783\n",
      "Epoch 5/25\n",
      "390/390 [==============================] - 756s 2s/step - loss: 2.9950 - accuracy: 0.3052 - val_loss: 3.1298 - val_accuracy: 0.2898\n",
      "Epoch 6/25\n",
      "390/390 [==============================] - 755s 2s/step - loss: 2.8021 - accuracy: 0.3401 - val_loss: 2.9719 - val_accuracy: 0.3141\n",
      "Epoch 7/25\n",
      "390/390 [==============================] - 756s 2s/step - loss: 2.6404 - accuracy: 0.3717 - val_loss: 2.8824 - val_accuracy: 0.3369\n",
      "Epoch 8/25\n",
      "390/390 [==============================] - 757s 2s/step - loss: 2.5033 - accuracy: 0.3980 - val_loss: 2.8556 - val_accuracy: 0.3393\n",
      "Epoch 9/25\n",
      "390/390 [==============================] - 758s 2s/step - loss: 2.3735 - accuracy: 0.4234 - val_loss: 2.8091 - val_accuracy: 0.3564\n",
      "Epoch 10/25\n",
      "390/390 [==============================] - 758s 2s/step - loss: 2.2633 - accuracy: 0.4441 - val_loss: 2.9130 - val_accuracy: 0.3381\n",
      "Epoch 11/25\n",
      "390/390 [==============================] - 758s 2s/step - loss: 2.1644 - accuracy: 0.4655 - val_loss: 2.8040 - val_accuracy: 0.3654\n",
      "Epoch 12/25\n",
      "390/390 [==============================] - 755s 2s/step - loss: 2.0635 - accuracy: 0.4851 - val_loss: 2.9239 - val_accuracy: 0.3504\n",
      "Epoch 13/25\n",
      "390/390 [==============================] - 758s 2s/step - loss: 1.9927 - accuracy: 0.4978 - val_loss: 2.9069 - val_accuracy: 0.3553\n",
      "Epoch 14/25\n",
      "390/390 [==============================] - 756s 2s/step - loss: 1.9060 - accuracy: 0.5175 - val_loss: 2.9378 - val_accuracy: 0.3645\n",
      "Epoch 15/25\n",
      "390/390 [==============================] - 756s 2s/step - loss: 1.8320 - accuracy: 0.5309 - val_loss: 2.8524 - val_accuracy: 0.3805\n",
      "Epoch 16/25\n",
      "390/390 [==============================] - 756s 2s/step - loss: 1.7525 - accuracy: 0.5488 - val_loss: 3.0115 - val_accuracy: 0.3588\n",
      "Epoch 17/25\n",
      "390/390 [==============================] - 758s 2s/step - loss: 1.6970 - accuracy: 0.5602 - val_loss: 3.1427 - val_accuracy: 0.3613\n",
      "Epoch 18/25\n",
      "390/390 [==============================] - 758s 2s/step - loss: 1.6239 - accuracy: 0.5763 - val_loss: 3.1047 - val_accuracy: 0.3623\n",
      "Epoch 19/25\n",
      "390/390 [==============================] - 757s 2s/step - loss: 1.5731 - accuracy: 0.5884 - val_loss: 3.1125 - val_accuracy: 0.3746\n",
      "Epoch 20/25\n",
      "390/390 [==============================] - 756s 2s/step - loss: 1.5094 - accuracy: 0.6004 - val_loss: 3.1464 - val_accuracy: 0.3658\n",
      "Epoch 21/25\n",
      "390/390 [==============================] - 758s 2s/step - loss: 1.4607 - accuracy: 0.6106 - val_loss: 3.1596 - val_accuracy: 0.3715\n",
      "Epoch 22/25\n",
      "390/390 [==============================] - 756s 2s/step - loss: 1.4165 - accuracy: 0.6206 - val_loss: 3.3940 - val_accuracy: 0.3639\n",
      "Epoch 23/25\n",
      "390/390 [==============================] - 757s 2s/step - loss: 1.3514 - accuracy: 0.6359 - val_loss: 3.3636 - val_accuracy: 0.3721\n",
      "Epoch 24/25\n",
      "390/390 [==============================] - 756s 2s/step - loss: 1.3086 - accuracy: 0.6484 - val_loss: 3.3284 - val_accuracy: 0.3656\n",
      "Epoch 25/25\n",
      "390/390 [==============================] - 755s 2s/step - loss: 1.2711 - accuracy: 0.6520 - val_loss: 3.3452 - val_accuracy: 0.3623\n",
      "Epoch 00025: early stopping\n",
      "40/40 [==============================] - 10s 250ms/step - loss: 3.3028 - accuracy: 0.3668\n",
      "Test Accuracy > 36.680\n"
     ]
    },
    {
     "data": {
      "image/png": "[encoded data removed]",
      "text/plain": [
       "<Figure size 432x288 with 2 Axes>"
      ]
     },
     "metadata": {
      "needs_background": "light"
     },
     "output_type": "display_data"
    }
   ],
   "source": [
    "model4 = define_four_blocks_model()\n",
    "run_test_harness(model4)"
   ]
  },
  {
   "cell_type": "code",
   "execution_count": 11,
   "metadata": {},
   "outputs": [],
   "source": [
    "model4.save('4blocks-cnn-double-convnet.h5')"
   ]
  }
 ],
 "metadata": {
  "kernelspec": {
   "display_name": "Python 3",
   "language": "python",
   "name": "python3"
  },
  "language_info": {
   "codemirror_mode": {
    "name": "ipython",
    "version": 3
   },
   "file_extension": ".py",
   "mimetype": "text/x-python",
   "name": "python",
   "nbconvert_exporter": "python",
   "pygments_lexer": "ipython3",
   "version": "3.6.9"
  }
 },
 "nbformat": 4,
 "nbformat_minor": 2
}
