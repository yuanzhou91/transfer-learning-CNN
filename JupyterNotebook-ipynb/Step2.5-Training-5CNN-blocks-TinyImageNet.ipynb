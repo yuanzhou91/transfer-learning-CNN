{
 "cells": [
  {
   "cell_type": "code",
   "execution_count": 1,
   "metadata": {
    "scrolled": true
   },
   "outputs": [
    {
     "name": "stdout",
     "output_type": "stream",
     "text": [
      "--2020-08-24 08:35:30--  http://cs231n.stanford.edu/tiny-imagenet-200.zip\n",
      "Resolving cs231n.stanford.edu (cs231n.stanford.edu)... 171.64.68.10\n",
      "Connecting to cs231n.stanford.edu (cs231n.stanford.edu)|171.64.68.10|:80... connected.\n",
      "HTTP request sent, awaiting response... 200 OK\n",
      "Length: 248100043 (237M) [application/zip]\n",
      "Saving to: ‘tiny-imagenet-200.zip.2’\n",
      "\n",
      "tiny-imagenet-200.z 100%[===================>] 236.61M  31.9MB/s    in 12s     \n",
      "\n",
      "2020-08-24 08:35:47 (19.3 MB/s) - ‘tiny-imagenet-200.zip.2’ saved [248100043/248100043]\n",
      "\n"
     ]
    }
   ],
   "source": [
    "!wget http://cs231n.stanford.edu/tiny-imagenet-200.zip\n",
    "!unzip -o -qq 'tiny-imagenet-200.zip'\n"
   ]
  },
  {
   "cell_type": "code",
   "execution_count": 13,
   "metadata": {},
   "outputs": [],
   "source": [
    "from tensorflow import keras\n",
    "import os,sys\n",
    "from matplotlib import pyplot\n",
    "import pandas as pd\n",
    "\n",
    "from tensorflow.keras.models import Sequential, Model\n",
    "from tensorflow.keras.layers import Dense, Conv2D, MaxPool2D , Flatten, MaxPooling2D, Dropout\n",
    "from tensorflow.keras.optimizers import Adam, SGD\n",
    "from tensorflow.keras.preprocessing.image import ImageDataGenerator\n",
    "from tensorflow.keras.callbacks import ModelCheckpoint, EarlyStopping\n",
    "\n",
    "import numpy as np"
   ]
  },
  {
   "cell_type": "code",
   "execution_count": 2,
   "metadata": {
    "scrolled": true
   },
   "outputs": [
    {
     "data": {
      "text/html": [
       "<div>\n",
       "<style scoped>\n",
       "    .dataframe tbody tr th:only-of-type {\n",
       "        vertical-align: middle;\n",
       "    }\n",
       "\n",
       "    .dataframe tbody tr th {\n",
       "        vertical-align: top;\n",
       "    }\n",
       "\n",
       "    .dataframe thead th {\n",
       "        text-align: right;\n",
       "    }\n",
       "</style>\n",
       "<table border=\"1\" class=\"dataframe\">\n",
       "  <thead>\n",
       "    <tr style=\"text-align: right;\">\n",
       "      <th></th>\n",
       "      <th>File</th>\n",
       "      <th>Class</th>\n",
       "    </tr>\n",
       "  </thead>\n",
       "  <tbody>\n",
       "    <tr>\n",
       "      <th>0</th>\n",
       "      <td>val_0.JPEG</td>\n",
       "      <td>n03444034</td>\n",
       "    </tr>\n",
       "    <tr>\n",
       "      <th>1</th>\n",
       "      <td>val_1.JPEG</td>\n",
       "      <td>n04067472</td>\n",
       "    </tr>\n",
       "    <tr>\n",
       "      <th>2</th>\n",
       "      <td>val_2.JPEG</td>\n",
       "      <td>n04070727</td>\n",
       "    </tr>\n",
       "  </tbody>\n",
       "</table>\n",
       "</div>"
      ],
      "text/plain": [
       "         File      Class\n",
       "0  val_0.JPEG  n03444034\n",
       "1  val_1.JPEG  n04067472\n",
       "2  val_2.JPEG  n04070727"
      ]
     },
     "execution_count": 2,
     "metadata": {},
     "output_type": "execute_result"
    }
   ],
   "source": [
    "val_data = pd.read_csv('./tiny-imagenet-200/val/val_annotations.txt', sep='\\t', header=None, names=['File', 'Class', 'X', 'Y', 'H', 'W'])\n",
    "val_data.drop(['X', 'Y', 'H', 'W'], axis=1, inplace=True)\n",
    "val_data.head(3)\n"
   ]
  },
  {
   "cell_type": "code",
   "execution_count": 7,
   "metadata": {},
   "outputs": [],
   "source": [
    "# define a cnn model with five VGG blocks\n",
    "def define_five_blocks_model():\n",
    "    model = Sequential()\n",
    "    model.add(Conv2D(64, (3, 3), activation='relu', kernel_initializer='he_uniform', padding='same', input_shape=(64, 64, 3)))\n",
    "    model.add(MaxPooling2D((2, 2)))\n",
    "    model.add(Conv2D(128, (3, 3), activation='relu', kernel_initializer='he_uniform', padding='same'))\n",
    "    model.add(MaxPooling2D((2, 2)))\n",
    "    model.add(Conv2D(256, (3, 3), activation='relu', kernel_initializer='he_uniform', padding='same'))\n",
    "    model.add(MaxPooling2D((2, 2)))\n",
    "    model.add(Conv2D(512, (3, 3), activation='relu', kernel_initializer='he_uniform', padding='same'))\n",
    "    model.add(MaxPooling2D((2, 2)))\n",
    "    model.add(Conv2D(512, (3, 3), activation='relu', kernel_initializer='he_uniform', padding='same'))\n",
    "    model.add(MaxPooling2D((2, 2)))\n",
    "    model.add(Flatten())\n",
    "    model.add(Dense(1024, activation='relu'))\n",
    "    model.add(Dense(200, activation='softmax'))\n",
    "    model.summary()\n",
    "    return model"
   ]
  },
  {
   "cell_type": "code",
   "execution_count": 8,
   "metadata": {},
   "outputs": [],
   "source": [
    "# plot diagnostic learning curves\n",
    "def summarize_diagnostics(history):\n",
    "    # plot loss\n",
    "    pyplot.subplot(211)\n",
    "    pyplot.title('Cross Entropy Loss')\n",
    "    pyplot.plot(history.history['loss'], color='blue', label='train')\n",
    "    pyplot.plot(history.history['val_loss'], color='orange', label='test')\n",
    "    # plot accuracy\n",
    "    pyplot.subplot(212)\n",
    "    pyplot.title('Classification Accuracy')\n",
    "    pyplot.plot(history.history['accuracy'], color='blue', label='train')\n",
    "    pyplot.plot(history.history['val_accuracy'], color='orange', label='test')\n",
    "    # save plot to file\n",
    "    filename = sys.argv[0].split('/')[-1]\n",
    "    pyplot.savefig(filename + '_plot.png')\n",
    "    pyplot.show()\n",
    "    pyplot.close()\n"
   ]
  },
  {
   "cell_type": "code",
   "execution_count": 9,
   "metadata": {},
   "outputs": [],
   "source": [
    "# run the test harness for evaluating a model\n",
    "def run_test_harness(model):\n",
    "    # compile model\n",
    "    model.compile(loss='categorical_crossentropy',optimizer='adam',\n",
    "              metrics=['accuracy'])\n",
    "    # create data generators\n",
    "    train_datagen = ImageDataGenerator(rescale=1.0/255.0,\n",
    "        width_shift_range=0.1, height_shift_range=0.1, horizontal_flip=True)\n",
    "    test_datagen = ImageDataGenerator(rescale=1.0/255.0)\n",
    "    # prepare iterators\n",
    "    train_it = train_datagen.flow_from_directory( r'./tiny-imagenet-200/train/', target_size=(64, 64), color_mode='rgb', \n",
    "                                                 batch_size=256, class_mode='categorical', shuffle=True, seed=42)\n",
    "\n",
    "    test_it = test_datagen.flow_from_dataframe(val_data, directory='./tiny-imagenet-200/val/images/', x_col='File', y_col='Class', target_size=(64, 64),\n",
    "                                                    color_mode='rgb', class_mode='categorical', batch_size=256, shuffle=True, seed=42)\n",
    "\n",
    "    # Create EarlyStopping callback which stopps after 5 epochs of non-increasing accuracy\n",
    "    early = EarlyStopping(monitor='val_accuracy', min_delta=0, patience=10, verbose=1, mode='auto')\n",
    "    # fit model\n",
    "    history = model.fit(train_it, steps_per_epoch=200,\n",
    "        validation_data=test_it, validation_steps=20, epochs=25, callbacks=[early])\n",
    "    # evaluate model\n",
    "    _, acc = model.evaluate(test_it, steps=len(test_it))\n",
    "    print('Test Accuracy > %.3f' % (acc * 100.0))\n",
    "    # learning curves\n",
    "    summarize_diagnostics(history)\n"
   ]
  },
  {
   "cell_type": "code",
   "execution_count": 10,
   "metadata": {},
   "outputs": [
    {
     "name": "stdout",
     "output_type": "stream",
     "text": [
      "Model: \"sequential_1\"\n",
      "_________________________________________________________________\n",
      "Layer (type)                 Output Shape              Param #   \n",
      "=================================================================\n",
      "conv2d_5 (Conv2D)            (None, 64, 64, 64)        1792      \n",
      "_________________________________________________________________\n",
      "max_pooling2d_5 (MaxPooling2 (None, 32, 32, 64)        0         \n",
      "_________________________________________________________________\n",
      "conv2d_6 (Conv2D)            (None, 32, 32, 128)       73856     \n",
      "_________________________________________________________________\n",
      "max_pooling2d_6 (MaxPooling2 (None, 16, 16, 128)       0         \n",
      "_________________________________________________________________\n",
      "conv2d_7 (Conv2D)            (None, 16, 16, 256)       295168    \n",
      "_________________________________________________________________\n",
      "max_pooling2d_7 (MaxPooling2 (None, 8, 8, 256)         0         \n",
      "_________________________________________________________________\n",
      "conv2d_8 (Conv2D)            (None, 8, 8, 512)         1180160   \n",
      "_________________________________________________________________\n",
      "max_pooling2d_8 (MaxPooling2 (None, 4, 4, 512)         0         \n",
      "_________________________________________________________________\n",
      "conv2d_9 (Conv2D)            (None, 4, 4, 512)         2359808   \n",
      "_________________________________________________________________\n",
      "max_pooling2d_9 (MaxPooling2 (None, 2, 2, 512)         0         \n",
      "_________________________________________________________________\n",
      "flatten_1 (Flatten)          (None, 2048)              0         \n",
      "_________________________________________________________________\n",
      "dense_2 (Dense)              (None, 1024)              2098176   \n",
      "_________________________________________________________________\n",
      "dense_3 (Dense)              (None, 200)               205000    \n",
      "=================================================================\n",
      "Total params: 6,213,960\n",
      "Trainable params: 6,213,960\n",
      "Non-trainable params: 0\n",
      "_________________________________________________________________\n",
      "Found 100000 images belonging to 200 classes.\n",
      "Found 10000 validated image filenames belonging to 200 classes.\n",
      "Epoch 1/25\n",
      "200/200 [==============================] - 138s 688ms/step - loss: 5.0065 - accuracy: 0.0283 - val_loss: 4.6317 - val_accuracy: 0.0582\n",
      "Epoch 2/25\n",
      "200/200 [==============================] - 135s 677ms/step - loss: 4.3776 - accuracy: 0.0906 - val_loss: 4.1446 - val_accuracy: 0.1133\n",
      "Epoch 3/25\n",
      "200/200 [==============================] - 136s 680ms/step - loss: 3.9505 - accuracy: 0.1491 - val_loss: 3.7617 - val_accuracy: 0.1809\n",
      "Epoch 4/25\n",
      "200/200 [==============================] - 137s 683ms/step - loss: 3.6295 - accuracy: 0.1953 - val_loss: 3.5952 - val_accuracy: 0.1992\n",
      "Epoch 5/25\n",
      "200/200 [==============================] - 137s 684ms/step - loss: 3.4077 - accuracy: 0.2301 - val_loss: 3.4541 - val_accuracy: 0.2262\n",
      "Epoch 6/25\n",
      "200/200 [==============================] - 137s 686ms/step - loss: 3.2186 - accuracy: 0.2647 - val_loss: 3.3902 - val_accuracy: 0.2338\n",
      "Epoch 7/25\n",
      "200/200 [==============================] - 136s 680ms/step - loss: 3.0894 - accuracy: 0.2874 - val_loss: 3.2534 - val_accuracy: 0.2594\n",
      "Epoch 8/25\n",
      "200/200 [==============================] - 136s 681ms/step - loss: 2.9566 - accuracy: 0.3137 - val_loss: 3.0202 - val_accuracy: 0.3078\n",
      "Epoch 9/25\n",
      "200/200 [==============================] - 137s 683ms/step - loss: 2.8236 - accuracy: 0.3361 - val_loss: 3.0261 - val_accuracy: 0.3029\n",
      "Epoch 10/25\n",
      "200/200 [==============================] - 136s 681ms/step - loss: 2.7196 - accuracy: 0.3536 - val_loss: 3.0482 - val_accuracy: 0.3029\n",
      "Epoch 11/25\n",
      "200/200 [==============================] - 136s 682ms/step - loss: 2.6533 - accuracy: 0.3675 - val_loss: 2.9349 - val_accuracy: 0.3279\n",
      "Epoch 12/25\n",
      "200/200 [==============================] - 136s 680ms/step - loss: 2.5513 - accuracy: 0.3854 - val_loss: 2.9183 - val_accuracy: 0.3271\n",
      "Epoch 13/25\n",
      "200/200 [==============================] - 136s 682ms/step - loss: 2.4614 - accuracy: 0.4035 - val_loss: 3.0022 - val_accuracy: 0.3187\n",
      "Epoch 14/25\n",
      "200/200 [==============================] - 136s 679ms/step - loss: 2.3891 - accuracy: 0.4204 - val_loss: 2.9004 - val_accuracy: 0.3404\n",
      "Epoch 15/25\n",
      "200/200 [==============================] - 136s 679ms/step - loss: 2.3448 - accuracy: 0.4277 - val_loss: 2.8219 - val_accuracy: 0.3502\n",
      "Epoch 16/25\n",
      "200/200 [==============================] - 136s 681ms/step - loss: 2.2684 - accuracy: 0.4428 - val_loss: 2.8281 - val_accuracy: 0.3498\n",
      "Epoch 17/25\n",
      "200/200 [==============================] - 136s 681ms/step - loss: 2.2026 - accuracy: 0.4553 - val_loss: 2.8648 - val_accuracy: 0.3514\n",
      "Epoch 18/25\n",
      "200/200 [==============================] - 136s 682ms/step - loss: 2.1553 - accuracy: 0.4651 - val_loss: 2.8836 - val_accuracy: 0.3570\n",
      "Epoch 19/25\n",
      "200/200 [==============================] - 136s 682ms/step - loss: 2.1006 - accuracy: 0.4761 - val_loss: 2.9449 - val_accuracy: 0.3551\n",
      "Epoch 20/25\n",
      "200/200 [==============================] - 136s 680ms/step - loss: 2.0508 - accuracy: 0.4876 - val_loss: 2.8006 - val_accuracy: 0.3646\n",
      "Epoch 21/25\n",
      "200/200 [==============================] - 136s 681ms/step - loss: 2.0149 - accuracy: 0.4941 - val_loss: 2.9055 - val_accuracy: 0.3604\n",
      "Epoch 22/25\n",
      "200/200 [==============================] - 136s 681ms/step - loss: 1.9565 - accuracy: 0.5082 - val_loss: 2.9008 - val_accuracy: 0.3697\n",
      "Epoch 23/25\n",
      "200/200 [==============================] - 136s 678ms/step - loss: 1.9103 - accuracy: 0.5181 - val_loss: 2.9551 - val_accuracy: 0.3615\n",
      "Epoch 24/25\n",
      "200/200 [==============================] - 136s 678ms/step - loss: 1.8648 - accuracy: 0.5289 - val_loss: 3.1064 - val_accuracy: 0.3494\n",
      "Epoch 25/25\n",
      "200/200 [==============================] - 135s 677ms/step - loss: 1.8413 - accuracy: 0.5305 - val_loss: 3.0025 - val_accuracy: 0.3486\n",
      "40/40 [==============================] - 4s 112ms/step - loss: 2.9716 - accuracy: 0.3537\n",
      "Test Accuracy > 35.370\n"
     ]
    },
    {
     "data": {
      "image/png": "[encoded data removed]",
      "text/plain": [
       "<Figure size 432x288 with 2 Axes>"
      ]
     },
     "metadata": {
      "needs_background": "light"
     },
     "output_type": "display_data"
    }
   ],
   "source": [
    "model5 = define_five_blocks_model()\n",
    "run_test_harness(model5)"
   ]
  },
  {
   "cell_type": "code",
   "execution_count": 16,
   "metadata": {},
   "outputs": [],
   "source": [
    "model5.save('5blocks-cnn.h5')"
   ]
  },
  {
   "cell_type": "code",
   "execution_count": 15,
   "metadata": {},
   "outputs": [],
   "source": [
    "# define a cnn model with five VGG blocks\n",
    "def define_five_blocks_model_with_dropout():\n",
    "    model = Sequential()\n",
    "    model.add(Conv2D(64, (3, 3), activation='relu', kernel_initializer='he_uniform', padding='same', input_shape=(64, 64, 3)))\n",
    "    model.add(MaxPooling2D((2, 2)))\n",
    "    model.add(Dropout(0.2))\n",
    "    model.add(Conv2D(128, (3, 3), activation='relu', kernel_initializer='he_uniform', padding='same'))\n",
    "    model.add(MaxPooling2D((2, 2)))\n",
    "    model.add(Dropout(0.2))\n",
    "    model.add(Conv2D(256, (3, 3), activation='relu', kernel_initializer='he_uniform', padding='same'))\n",
    "    model.add(MaxPooling2D((2, 2)))\n",
    "    model.add(Dropout(0.2))\n",
    "    model.add(Conv2D(512, (3, 3), activation='relu', kernel_initializer='he_uniform', padding='same'))\n",
    "    model.add(MaxPooling2D((2, 2)))\n",
    "    model.add(Dropout(0.2))\n",
    "    model.add(Conv2D(512, (3, 3), activation='relu', kernel_initializer='he_uniform', padding='same'))\n",
    "    model.add(MaxPooling2D((2, 2)))\n",
    "    model.add(Dropout(0.2))\n",
    "    model.add(Flatten())\n",
    "    model.add(Dense(1024, activation='relu'))\n",
    "    model.add(Dropout(0.5))\n",
    "    model.add(Dense(200, activation='softmax'))\n",
    "    model.summary()\n",
    "    return model"
   ]
  },
  {
   "cell_type": "code",
   "execution_count": 18,
   "metadata": {
    "scrolled": true
   },
   "outputs": [
    {
     "name": "stdout",
     "output_type": "stream",
     "text": [
      "Model: \"sequential_4\"\n",
      "_________________________________________________________________\n",
      "Layer (type)                 Output Shape              Param #   \n",
      "=================================================================\n",
      "conv2d_25 (Conv2D)           (None, 64, 64, 64)        1792      \n",
      "_________________________________________________________________\n",
      "max_pooling2d_20 (MaxPooling (None, 32, 32, 64)        0         \n",
      "_________________________________________________________________\n",
      "dropout_6 (Dropout)          (None, 32, 32, 64)        0         \n",
      "_________________________________________________________________\n",
      "conv2d_26 (Conv2D)           (None, 32, 32, 128)       73856     \n",
      "_________________________________________________________________\n",
      "max_pooling2d_21 (MaxPooling (None, 16, 16, 128)       0         \n",
      "_________________________________________________________________\n",
      "dropout_7 (Dropout)          (None, 16, 16, 128)       0         \n",
      "_________________________________________________________________\n",
      "conv2d_27 (Conv2D)           (None, 16, 16, 256)       295168    \n",
      "_________________________________________________________________\n",
      "max_pooling2d_22 (MaxPooling (None, 8, 8, 256)         0         \n",
      "_________________________________________________________________\n",
      "dropout_8 (Dropout)          (None, 8, 8, 256)         0         \n",
      "_________________________________________________________________\n",
      "conv2d_28 (Conv2D)           (None, 8, 8, 512)         1180160   \n",
      "_________________________________________________________________\n",
      "max_pooling2d_23 (MaxPooling (None, 4, 4, 512)         0         \n",
      "_________________________________________________________________\n",
      "dropout_9 (Dropout)          (None, 4, 4, 512)         0         \n",
      "_________________________________________________________________\n",
      "conv2d_29 (Conv2D)           (None, 4, 4, 512)         2359808   \n",
      "_________________________________________________________________\n",
      "max_pooling2d_24 (MaxPooling (None, 2, 2, 512)         0         \n",
      "_________________________________________________________________\n",
      "dropout_10 (Dropout)         (None, 2, 2, 512)         0         \n",
      "_________________________________________________________________\n",
      "flatten_4 (Flatten)          (None, 2048)              0         \n",
      "_________________________________________________________________\n",
      "dense_8 (Dense)              (None, 1024)              2098176   \n",
      "_________________________________________________________________\n",
      "dropout_11 (Dropout)         (None, 1024)              0         \n",
      "_________________________________________________________________\n",
      "dense_9 (Dense)              (None, 200)               205000    \n",
      "=================================================================\n",
      "Total params: 6,213,960\n",
      "Trainable params: 6,213,960\n",
      "Non-trainable params: 0\n",
      "_________________________________________________________________\n",
      "Found 100000 images belonging to 200 classes.\n",
      "Found 10000 validated image filenames belonging to 200 classes.\n",
      "Epoch 1/25\n",
      "200/200 [==============================] - 145s 725ms/step - loss: 5.2985 - accuracy: 0.0080 - val_loss: 5.1282 - val_accuracy: 0.0158\n",
      "Epoch 2/25\n",
      "200/200 [==============================] - 146s 729ms/step - loss: 5.0142 - accuracy: 0.0229 - val_loss: 4.9121 - val_accuracy: 0.0312\n",
      "Epoch 3/25\n",
      "200/200 [==============================] - 145s 725ms/step - loss: 4.6702 - accuracy: 0.0533 - val_loss: 4.7633 - val_accuracy: 0.0547\n",
      "Epoch 4/25\n",
      "200/200 [==============================] - 146s 729ms/step - loss: 4.3835 - accuracy: 0.0848 - val_loss: 4.2430 - val_accuracy: 0.1045\n",
      "Epoch 5/25\n",
      "200/200 [==============================] - 145s 725ms/step - loss: 4.1769 - accuracy: 0.1128 - val_loss: 4.0958 - val_accuracy: 0.1256\n",
      "Epoch 6/25\n",
      "200/200 [==============================] - 144s 721ms/step - loss: 3.9898 - accuracy: 0.1375 - val_loss: 4.0119 - val_accuracy: 0.1398\n",
      "Epoch 7/25\n",
      "200/200 [==============================] - 145s 725ms/step - loss: 3.8512 - accuracy: 0.1593 - val_loss: 3.7387 - val_accuracy: 0.1789\n",
      "Epoch 8/25\n",
      "200/200 [==============================] - 145s 726ms/step - loss: 3.7354 - accuracy: 0.1771 - val_loss: 3.6119 - val_accuracy: 0.1984\n",
      "Epoch 9/25\n",
      "200/200 [==============================] - 145s 726ms/step - loss: 3.6434 - accuracy: 0.1893 - val_loss: 3.5375 - val_accuracy: 0.2148\n",
      "Epoch 10/25\n",
      "200/200 [==============================] - 144s 722ms/step - loss: 3.5512 - accuracy: 0.2073 - val_loss: 3.4285 - val_accuracy: 0.2266\n",
      "Epoch 11/25\n",
      "200/200 [==============================] - 145s 726ms/step - loss: 3.4871 - accuracy: 0.2155 - val_loss: 3.3816 - val_accuracy: 0.2318\n",
      "Epoch 12/25\n",
      "200/200 [==============================] - 145s 725ms/step - loss: 3.4386 - accuracy: 0.2238 - val_loss: 3.3459 - val_accuracy: 0.2459\n",
      "Epoch 13/25\n",
      "200/200 [==============================] - 145s 727ms/step - loss: 3.3696 - accuracy: 0.2369 - val_loss: 3.3299 - val_accuracy: 0.2502\n",
      "Epoch 14/25\n",
      "200/200 [==============================] - 145s 726ms/step - loss: 3.3305 - accuracy: 0.2429 - val_loss: 3.2550 - val_accuracy: 0.2582\n",
      "Epoch 15/25\n",
      "200/200 [==============================] - 145s 724ms/step - loss: 3.2827 - accuracy: 0.2485 - val_loss: 3.1804 - val_accuracy: 0.2777\n",
      "Epoch 16/25\n",
      "200/200 [==============================] - 145s 726ms/step - loss: 3.2456 - accuracy: 0.2604 - val_loss: 3.2504 - val_accuracy: 0.2613\n",
      "Epoch 17/25\n",
      "200/200 [==============================] - 145s 727ms/step - loss: 3.2267 - accuracy: 0.2632 - val_loss: 3.1626 - val_accuracy: 0.2803\n",
      "Epoch 18/25\n",
      "200/200 [==============================] - 144s 722ms/step - loss: 3.1649 - accuracy: 0.2742 - val_loss: 3.1397 - val_accuracy: 0.2867\n",
      "Epoch 19/25\n",
      "200/200 [==============================] - 144s 721ms/step - loss: 3.1423 - accuracy: 0.2769 - val_loss: 3.1234 - val_accuracy: 0.2850\n",
      "Epoch 20/25\n",
      "200/200 [==============================] - 144s 722ms/step - loss: 3.1125 - accuracy: 0.2776 - val_loss: 3.0711 - val_accuracy: 0.2973\n",
      "Epoch 21/25\n",
      "200/200 [==============================] - 144s 721ms/step - loss: 3.0982 - accuracy: 0.2854 - val_loss: 3.1166 - val_accuracy: 0.2953\n",
      "Epoch 22/25\n",
      "200/200 [==============================] - 145s 725ms/step - loss: 3.0639 - accuracy: 0.2917 - val_loss: 3.0273 - val_accuracy: 0.3021\n",
      "Epoch 23/25\n",
      "200/200 [==============================] - 145s 723ms/step - loss: 3.0386 - accuracy: 0.2947 - val_loss: 3.0088 - val_accuracy: 0.3125\n",
      "Epoch 24/25\n",
      "200/200 [==============================] - 145s 727ms/step - loss: 3.0137 - accuracy: 0.3008 - val_loss: 3.1995 - val_accuracy: 0.2791\n",
      "Epoch 25/25\n",
      "200/200 [==============================] - 145s 725ms/step - loss: 3.0004 - accuracy: 0.3038 - val_loss: 3.0190 - val_accuracy: 0.3037\n",
      "40/40 [==============================] - 4s 112ms/step - loss: 3.0051 - accuracy: 0.3092\n",
      "Test Accuracy > 30.920\n"
     ]
    },
    {
     "data": {
      "image/png": "[encoded data removed]",
      "text/plain": [
       "<Figure size 432x288 with 2 Axes>"
      ]
     },
     "metadata": {
      "needs_background": "light"
     },
     "output_type": "display_data"
    }
   ],
   "source": [
    "model6= define_five_blocks_model_with_dropout()\n",
    "run_test_harness(model6)"
   ]
  },
  {
   "cell_type": "code",
   "execution_count": 19,
   "metadata": {},
   "outputs": [
    {
     "name": "stdout",
     "output_type": "stream",
     "text": [
      "Found 100000 images belonging to 200 classes.\n",
      "Found 10000 validated image filenames belonging to 200 classes.\n",
      "Epoch 1/25\n",
      "200/200 [==============================] - 145s 725ms/step - loss: 2.9875 - accuracy: 0.3040 - val_loss: 2.9076 - val_accuracy: 0.3264\n",
      "Epoch 2/25\n",
      "200/200 [==============================] - 145s 725ms/step - loss: 2.9668 - accuracy: 0.3107 - val_loss: 2.9518 - val_accuracy: 0.3240\n",
      "Epoch 3/25\n",
      "200/200 [==============================] - 145s 727ms/step - loss: 2.9375 - accuracy: 0.3154 - val_loss: 2.9509 - val_accuracy: 0.3160\n",
      "Epoch 4/25\n",
      "200/200 [==============================] - 145s 726ms/step - loss: 2.9240 - accuracy: 0.3159 - val_loss: 2.9802 - val_accuracy: 0.3217\n",
      "Epoch 5/25\n",
      "200/200 [==============================] - 145s 727ms/step - loss: 2.9212 - accuracy: 0.3183 - val_loss: 2.9592 - val_accuracy: 0.3256\n",
      "Epoch 6/25\n",
      "200/200 [==============================] - 145s 726ms/step - loss: 2.8863 - accuracy: 0.3253 - val_loss: 2.9079 - val_accuracy: 0.3273\n",
      "Epoch 7/25\n",
      "200/200 [==============================] - 145s 725ms/step - loss: 2.8872 - accuracy: 0.3269 - val_loss: 2.8405 - val_accuracy: 0.3438\n",
      "Epoch 8/25\n",
      "200/200 [==============================] - 146s 729ms/step - loss: 2.8651 - accuracy: 0.3262 - val_loss: 2.9667 - val_accuracy: 0.3186\n",
      "Epoch 9/25\n",
      "200/200 [==============================] - 145s 726ms/step - loss: 2.8610 - accuracy: 0.3308 - val_loss: 2.9717 - val_accuracy: 0.3209\n",
      "Epoch 10/25\n",
      "200/200 [==============================] - 145s 725ms/step - loss: 2.8430 - accuracy: 0.3326 - val_loss: 2.8668 - val_accuracy: 0.3334\n",
      "Epoch 11/25\n",
      "200/200 [==============================] - 146s 729ms/step - loss: 2.8262 - accuracy: 0.3355 - val_loss: 2.8878 - val_accuracy: 0.3383\n",
      "Epoch 12/25\n",
      "200/200 [==============================] - 145s 726ms/step - loss: 2.8345 - accuracy: 0.3345 - val_loss: 2.9305 - val_accuracy: 0.3229\n",
      "Epoch 13/25\n",
      "200/200 [==============================] - 146s 728ms/step - loss: 2.8067 - accuracy: 0.3371 - val_loss: 2.9340 - val_accuracy: 0.3234\n",
      "Epoch 14/25\n",
      "200/200 [==============================] - 146s 728ms/step - loss: 2.8054 - accuracy: 0.3385 - val_loss: 2.8719 - val_accuracy: 0.3338\n",
      "Epoch 15/25\n",
      "200/200 [==============================] - 145s 726ms/step - loss: 2.7830 - accuracy: 0.3396 - val_loss: 2.8745 - val_accuracy: 0.3365\n",
      "Epoch 16/25\n",
      "200/200 [==============================] - 145s 725ms/step - loss: 2.7666 - accuracy: 0.3453 - val_loss: 2.8370 - val_accuracy: 0.3469\n",
      "Epoch 17/25\n",
      "200/200 [==============================] - 145s 725ms/step - loss: 2.7741 - accuracy: 0.3457 - val_loss: 2.8360 - val_accuracy: 0.3471\n",
      "Epoch 18/25\n",
      "200/200 [==============================] - 145s 725ms/step - loss: 2.7793 - accuracy: 0.3424 - val_loss: 2.8726 - val_accuracy: 0.3461\n",
      "Epoch 19/25\n",
      "200/200 [==============================] - 145s 725ms/step - loss: 2.7639 - accuracy: 0.3465 - val_loss: 2.9842 - val_accuracy: 0.3154\n",
      "Epoch 20/25\n",
      "200/200 [==============================] - 146s 728ms/step - loss: 2.7549 - accuracy: 0.3514 - val_loss: 3.0007 - val_accuracy: 0.3248\n",
      "Epoch 21/25\n",
      "200/200 [==============================] - 145s 727ms/step - loss: 2.7477 - accuracy: 0.3490 - val_loss: 3.0270 - val_accuracy: 0.3180\n",
      "Epoch 22/25\n",
      "200/200 [==============================] - 145s 725ms/step - loss: 2.7431 - accuracy: 0.3491 - val_loss: 2.8893 - val_accuracy: 0.3498\n",
      "Epoch 23/25\n",
      "200/200 [==============================] - 145s 725ms/step - loss: 2.7225 - accuracy: 0.3573 - val_loss: 2.8627 - val_accuracy: 0.3463\n",
      "Epoch 24/25\n",
      "200/200 [==============================] - 145s 726ms/step - loss: 2.7262 - accuracy: 0.3556 - val_loss: 2.8385 - val_accuracy: 0.3533\n",
      "Epoch 25/25\n",
      "200/200 [==============================] - 146s 730ms/step - loss: 2.7128 - accuracy: 0.3577 - val_loss: 2.9485 - val_accuracy: 0.3332\n",
      "40/40 [==============================] - 5s 114ms/step - loss: 2.9103 - accuracy: 0.3385\n",
      "Test Accuracy > 33.850\n"
     ]
    },
    {
     "data": {
      "image/png": "[encoded data removed]",
      "text/plain": [
       "<Figure size 432x288 with 2 Axes>"
      ]
     },
     "metadata": {
      "needs_background": "light"
     },
     "output_type": "display_data"
    }
   ],
   "source": [
    "run_test_harness(model6)"
   ]
  },
  {
   "cell_type": "code",
   "execution_count": 20,
   "metadata": {},
   "outputs": [],
   "source": [
    "model6.save('5blocks-cnn-50epochs-dropout.h5')"
   ]
  },
  {
   "cell_type": "code",
   "execution_count": null,
   "metadata": {},
   "outputs": [],
   "source": []
  }
 ],
 "metadata": {
  "kernelspec": {
   "display_name": "Python 3",
   "language": "python",
   "name": "python3"
  },
  "language_info": {
   "codemirror_mode": {
    "name": "ipython",
    "version": 3
   },
   "file_extension": ".py",
   "mimetype": "text/x-python",
   "name": "python",
   "nbconvert_exporter": "python",
   "pygments_lexer": "ipython3",
   "version": "3.6.9"
  }
 },
 "nbformat": 4,
 "nbformat_minor": 2
}
