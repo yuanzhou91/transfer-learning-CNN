{
 "cells": [
  {
   "cell_type": "code",
   "execution_count": 1,
   "metadata": {
    "scrolled": true
   },
   "outputs": [
    {
     "name": "stdout",
     "output_type": "stream",
     "text": [
      "--2020-08-24 08:35:30--  http://cs231n.stanford.edu/tiny-imagenet-200.zip\n",
      "Resolving cs231n.stanford.edu (cs231n.stanford.edu)... 171.64.68.10\n",
      "Connecting to cs231n.stanford.edu (cs231n.stanford.edu)|171.64.68.10|:80... connected.\n",
      "HTTP request sent, awaiting response... 200 OK\n",
      "Length: 248100043 (237M) [application/zip]\n",
      "Saving to: ‘tiny-imagenet-200.zip.2’\n",
      "\n",
      "tiny-imagenet-200.z 100%[===================>] 236.61M  31.9MB/s    in 12s     \n",
      "\n",
      "2020-08-24 08:35:47 (19.3 MB/s) - ‘tiny-imagenet-200.zip.2’ saved [248100043/248100043]\n",
      "\n"
     ]
    }
   ],
   "source": [
    "!wget http://cs231n.stanford.edu/tiny-imagenet-200.zip\n",
    "!unzip -o -qq 'tiny-imagenet-200.zip'\n"
   ]
  },
  {
   "cell_type": "code",
   "execution_count": 1,
   "metadata": {},
   "outputs": [],
   "source": [
    "from tensorflow import keras\n",
    "import os,sys\n",
    "from matplotlib import pyplot\n",
    "import pandas as pd\n",
    "\n",
    "from tensorflow.keras.models import Sequential, Model\n",
    "from tensorflow.keras.layers import Dense, Conv2D, MaxPool2D , Flatten, MaxPooling2D\n",
    "from tensorflow.keras.optimizers import Adam, SGD\n",
    "from tensorflow.keras.preprocessing.image import ImageDataGenerator\n",
    "from tensorflow.keras.callbacks import ModelCheckpoint, EarlyStopping\n",
    "\n",
    "import numpy as np"
   ]
  },
  {
   "cell_type": "code",
   "execution_count": 2,
   "metadata": {
    "scrolled": true
   },
   "outputs": [
    {
     "data": {
      "text/html": [
       "<div>\n",
       "<style scoped>\n",
       "    .dataframe tbody tr th:only-of-type {\n",
       "        vertical-align: middle;\n",
       "    }\n",
       "\n",
       "    .dataframe tbody tr th {\n",
       "        vertical-align: top;\n",
       "    }\n",
       "\n",
       "    .dataframe thead th {\n",
       "        text-align: right;\n",
       "    }\n",
       "</style>\n",
       "<table border=\"1\" class=\"dataframe\">\n",
       "  <thead>\n",
       "    <tr style=\"text-align: right;\">\n",
       "      <th></th>\n",
       "      <th>File</th>\n",
       "      <th>Class</th>\n",
       "    </tr>\n",
       "  </thead>\n",
       "  <tbody>\n",
       "    <tr>\n",
       "      <th>0</th>\n",
       "      <td>val_0.JPEG</td>\n",
       "      <td>n03444034</td>\n",
       "    </tr>\n",
       "    <tr>\n",
       "      <th>1</th>\n",
       "      <td>val_1.JPEG</td>\n",
       "      <td>n04067472</td>\n",
       "    </tr>\n",
       "    <tr>\n",
       "      <th>2</th>\n",
       "      <td>val_2.JPEG</td>\n",
       "      <td>n04070727</td>\n",
       "    </tr>\n",
       "  </tbody>\n",
       "</table>\n",
       "</div>"
      ],
      "text/plain": [
       "         File      Class\n",
       "0  val_0.JPEG  n03444034\n",
       "1  val_1.JPEG  n04067472\n",
       "2  val_2.JPEG  n04070727"
      ]
     },
     "execution_count": 2,
     "metadata": {},
     "output_type": "execute_result"
    }
   ],
   "source": [
    "val_data = pd.read_csv('./tiny-imagenet-200/val/val_annotations.txt', sep='\\t', header=None, names=['File', 'Class', 'X', 'Y', 'H', 'W'])\n",
    "val_data.drop(['X', 'Y', 'H', 'W'], axis=1, inplace=True)\n",
    "val_data.head(3)\n"
   ]
  },
  {
   "cell_type": "code",
   "execution_count": 3,
   "metadata": {},
   "outputs": [],
   "source": [
    "def define_baseline_model():\n",
    "    model = Sequential()\n",
    "    model.add(Conv2D(64, (3, 3), activation='relu', kernel_initializer='he_uniform', padding='same', input_shape=(64, 64, 3)))\n",
    "    model.add(MaxPooling2D((2, 2)))\n",
    "    model.add(Flatten())\n",
    "    model.add(Dense(1024, activation='relu'))\n",
    "    model.add(Dense(200, activation='softmax'))\n",
    "    model.summary()\n",
    "    return model\n"
   ]
  },
  {
   "cell_type": "code",
   "execution_count": 4,
   "metadata": {},
   "outputs": [],
   "source": [
    "# define a cnn model with three VGG blocks\n",
    "def define_three_blocks_model():\n",
    "    model = Sequential()\n",
    "    model.add(Conv2D(64, (3, 3), activation='relu', kernel_initializer='he_uniform', padding='same', input_shape=(64, 64, 3)))\n",
    "    model.add(MaxPooling2D((2, 2)))\n",
    "    model.add(Conv2D(128, (3, 3), activation='relu', kernel_initializer='he_uniform', padding='same'))\n",
    "    model.add(MaxPooling2D((2, 2)))\n",
    "    model.add(Conv2D(256, (3, 3), activation='relu', kernel_initializer='he_uniform', padding='same'))\n",
    "    model.add(MaxPooling2D((2, 2)))\n",
    "    model.add(Flatten())\n",
    "    model.add(Dense(1024, activation='relu'))\n",
    "    model.add(Dense(200, activation='softmax'))\n",
    "    model.summary()\n",
    "    return model"
   ]
  },
  {
   "cell_type": "code",
   "execution_count": 5,
   "metadata": {},
   "outputs": [],
   "source": [
    "# plot diagnostic learning curves\n",
    "def summarize_diagnostics(history):\n",
    "    # plot loss\n",
    "    pyplot.subplot(211)\n",
    "    pyplot.title('Cross Entropy Loss')\n",
    "    pyplot.plot(history.history['loss'], color='blue', label='train')\n",
    "    pyplot.plot(history.history['val_loss'], color='orange', label='test')\n",
    "    # plot accuracy\n",
    "    pyplot.subplot(212)\n",
    "    pyplot.title('Classification Accuracy')\n",
    "    pyplot.plot(history.history['accuracy'], color='blue', label='train')\n",
    "    pyplot.plot(history.history['val_accuracy'], color='orange', label='test')\n",
    "    # save plot to file\n",
    "    filename = sys.argv[0].split('/')[-1]\n",
    "    pyplot.savefig(filename + '_plot.png')\n",
    "    pyplot.show()\n",
    "    pyplot.close()\n"
   ]
  },
  {
   "cell_type": "code",
   "execution_count": 6,
   "metadata": {},
   "outputs": [],
   "source": [
    "# run the test harness for evaluating a model\n",
    "def run_test_harness(model):\n",
    "    # compile model\n",
    "    model.compile(loss='categorical_crossentropy',optimizer='adam',\n",
    "              metrics=['accuracy'])\n",
    "    # create data generators\n",
    "    train_datagen = ImageDataGenerator(rescale=1.0/255.0,\n",
    "        width_shift_range=0.1, height_shift_range=0.1, horizontal_flip=True)\n",
    "    test_datagen = ImageDataGenerator(rescale=1.0/255.0)\n",
    "    # prepare iterators\n",
    "    train_it = train_datagen.flow_from_directory( r'./tiny-imagenet-200/train/', target_size=(64, 64), color_mode='rgb', \n",
    "                                                 batch_size=256, class_mode='categorical', shuffle=True, seed=42)\n",
    "\n",
    "    test_it = test_datagen.flow_from_dataframe(val_data, directory='./tiny-imagenet-200/val/images/', x_col='File', y_col='Class', target_size=(64, 64),\n",
    "                                                    color_mode='rgb', class_mode='categorical', batch_size=256, shuffle=True, seed=42)\n",
    "\n",
    "    # Create EarlyStopping callback which stopps after 5 epochs of non-increasing accuracy\n",
    "    early = EarlyStopping(monitor='val_accuracy', min_delta=0, patience=10, verbose=1, mode='auto')\n",
    "    # fit model\n",
    "    history = model.fit(train_it, steps_per_epoch=200,\n",
    "        validation_data=test_it, validation_steps=20, epochs=25, callbacks=[early])\n",
    "    # evaluate model\n",
    "    _, acc = model.evaluate(test_it, steps=len(test_it))\n",
    "    print('Test Accuracy > %.3f' % (acc * 100.0))\n",
    "    # learning curves\n",
    "    summarize_diagnostics(history)\n"
   ]
  },
  {
   "cell_type": "code",
   "execution_count": 7,
   "metadata": {},
   "outputs": [
    {
     "name": "stdout",
     "output_type": "stream",
     "text": [
      "Model: \"sequential\"\n",
      "_________________________________________________________________\n",
      "Layer (type)                 Output Shape              Param #   \n",
      "=================================================================\n",
      "conv2d (Conv2D)              (None, 64, 64, 64)        1792      \n",
      "_________________________________________________________________\n",
      "max_pooling2d (MaxPooling2D) (None, 32, 32, 64)        0         \n",
      "_________________________________________________________________\n",
      "conv2d_1 (Conv2D)            (None, 32, 32, 128)       73856     \n",
      "_________________________________________________________________\n",
      "max_pooling2d_1 (MaxPooling2 (None, 16, 16, 128)       0         \n",
      "_________________________________________________________________\n",
      "conv2d_2 (Conv2D)            (None, 16, 16, 256)       295168    \n",
      "_________________________________________________________________\n",
      "max_pooling2d_2 (MaxPooling2 (None, 8, 8, 256)         0         \n",
      "_________________________________________________________________\n",
      "flatten (Flatten)            (None, 16384)             0         \n",
      "_________________________________________________________________\n",
      "dense (Dense)                (None, 1024)              16778240  \n",
      "_________________________________________________________________\n",
      "dense_1 (Dense)              (None, 200)               205000    \n",
      "=================================================================\n",
      "Total params: 17,354,056\n",
      "Trainable params: 17,354,056\n",
      "Non-trainable params: 0\n",
      "_________________________________________________________________\n",
      "Found 100000 images belonging to 200 classes.\n",
      "Found 10000 validated image filenames belonging to 200 classes.\n",
      "Epoch 1/25\n",
      "200/200 [==============================] - 85s 423ms/step - loss: 4.9458 - accuracy: 0.0433 - val_loss: 4.4973 - val_accuracy: 0.0881\n",
      "Epoch 2/25\n",
      "200/200 [==============================] - 81s 404ms/step - loss: 4.2161 - accuracy: 0.1189 - val_loss: 4.0175 - val_accuracy: 0.1479\n",
      "Epoch 3/25\n",
      "200/200 [==============================] - 80s 402ms/step - loss: 3.8785 - accuracy: 0.1678 - val_loss: 3.7799 - val_accuracy: 0.1779\n",
      "Epoch 4/25\n",
      "200/200 [==============================] - 80s 401ms/step - loss: 3.6410 - accuracy: 0.2054 - val_loss: 3.6200 - val_accuracy: 0.2066\n",
      "Epoch 5/25\n",
      "200/200 [==============================] - 81s 405ms/step - loss: 3.4441 - accuracy: 0.2358 - val_loss: 3.4325 - val_accuracy: 0.2404\n",
      "Epoch 6/25\n",
      "200/200 [==============================] - 81s 404ms/step - loss: 3.2801 - accuracy: 0.2637 - val_loss: 3.3515 - val_accuracy: 0.2506\n",
      "Epoch 7/25\n",
      "200/200 [==============================] - 81s 404ms/step - loss: 3.1680 - accuracy: 0.2822 - val_loss: 3.3174 - val_accuracy: 0.2680\n",
      "Epoch 8/25\n",
      "200/200 [==============================] - 81s 405ms/step - loss: 3.0497 - accuracy: 0.3026 - val_loss: 3.2105 - val_accuracy: 0.2875\n",
      "Epoch 9/25\n",
      "200/200 [==============================] - 81s 406ms/step - loss: 2.9443 - accuracy: 0.3190 - val_loss: 3.2182 - val_accuracy: 0.2861\n",
      "Epoch 10/25\n",
      "200/200 [==============================] - 81s 407ms/step - loss: 2.8468 - accuracy: 0.3390 - val_loss: 3.1825 - val_accuracy: 0.2941\n",
      "Epoch 11/25\n",
      "200/200 [==============================] - 81s 406ms/step - loss: 2.7732 - accuracy: 0.3536 - val_loss: 3.1036 - val_accuracy: 0.3000\n",
      "Epoch 12/25\n",
      "200/200 [==============================] - 82s 409ms/step - loss: 2.6974 - accuracy: 0.3689 - val_loss: 3.1952 - val_accuracy: 0.2908\n",
      "Epoch 13/25\n",
      "200/200 [==============================] - 82s 409ms/step - loss: 2.6109 - accuracy: 0.3870 - val_loss: 3.0983 - val_accuracy: 0.3061\n",
      "Epoch 14/25\n",
      "200/200 [==============================] - 81s 407ms/step - loss: 2.5414 - accuracy: 0.3964 - val_loss: 3.2009 - val_accuracy: 0.2941\n",
      "Epoch 15/25\n",
      "200/200 [==============================] - 82s 409ms/step - loss: 2.4875 - accuracy: 0.4103 - val_loss: 3.0552 - val_accuracy: 0.3236\n",
      "Epoch 16/25\n",
      "200/200 [==============================] - 82s 408ms/step - loss: 2.4231 - accuracy: 0.4193 - val_loss: 3.1286 - val_accuracy: 0.3135\n",
      "Epoch 17/25\n",
      "200/200 [==============================] - 81s 406ms/step - loss: 2.3640 - accuracy: 0.4327 - val_loss: 3.1436 - val_accuracy: 0.3164\n",
      "Epoch 18/25\n",
      "200/200 [==============================] - 81s 407ms/step - loss: 2.2940 - accuracy: 0.4455 - val_loss: 3.1603 - val_accuracy: 0.3152\n",
      "Epoch 19/25\n",
      "200/200 [==============================] - 82s 410ms/step - loss: 2.2591 - accuracy: 0.4518 - val_loss: 3.1574 - val_accuracy: 0.3141\n",
      "Epoch 20/25\n",
      "200/200 [==============================] - 82s 408ms/step - loss: 2.1953 - accuracy: 0.4675 - val_loss: 3.1102 - val_accuracy: 0.3275\n",
      "Epoch 21/25\n",
      "200/200 [==============================] - 81s 407ms/step - loss: 2.1349 - accuracy: 0.4774 - val_loss: 3.2138 - val_accuracy: 0.3182\n",
      "Epoch 22/25\n",
      "200/200 [==============================] - 81s 407ms/step - loss: 2.1087 - accuracy: 0.4821 - val_loss: 3.2258 - val_accuracy: 0.3260\n",
      "Epoch 23/25\n",
      "200/200 [==============================] - 82s 408ms/step - loss: 2.0587 - accuracy: 0.4962 - val_loss: 3.1793 - val_accuracy: 0.3285\n",
      "Epoch 24/25\n",
      "200/200 [==============================] - 81s 407ms/step - loss: 2.0028 - accuracy: 0.5049 - val_loss: 3.2892 - val_accuracy: 0.3104\n",
      "Epoch 25/25\n",
      "200/200 [==============================] - 82s 408ms/step - loss: 1.9582 - accuracy: 0.5163 - val_loss: 3.2857 - val_accuracy: 0.3201\n",
      "40/40 [==============================] - 4s 99ms/step - loss: 3.2566 - accuracy: 0.3265\n",
      "Test Accuracy > 32.650\n"
     ]
    },
    {
     "data": {
      "image/png": "[encoded data removed]",
      "text/plain": [
       "<Figure size 432x288 with 2 Axes>"
      ]
     },
     "metadata": {
      "needs_background": "light"
     },
     "output_type": "display_data"
    }
   ],
   "source": [
    "model3 = define_three_blocks_model()\n",
    "run_test_harness(model3)"
   ]
  },
  {
   "cell_type": "code",
   "execution_count": 8,
   "metadata": {},
   "outputs": [],
   "source": [
    "model3.save('3blocks-cnn.h5')"
   ]
  },
  {
   "cell_type": "code",
   "execution_count": null,
   "metadata": {},
   "outputs": [],
   "source": []
  }
 ],
 "metadata": {
  "kernelspec": {
   "display_name": "Python 3",
   "language": "python",
   "name": "python3"
  },
  "language_info": {
   "codemirror_mode": {
    "name": "ipython",
    "version": 3
   },
   "file_extension": ".py",
   "mimetype": "text/x-python",
   "name": "python",
   "nbconvert_exporter": "python",
   "pygments_lexer": "ipython3",
   "version": "3.6.9"
  }
 },
 "nbformat": 4,
 "nbformat_minor": 2
}
