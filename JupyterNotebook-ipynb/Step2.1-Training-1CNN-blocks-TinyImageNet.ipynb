{
 "cells": [
  {
   "cell_type": "code",
   "execution_count": 1,
   "metadata": {
    "scrolled": true
   },
   "outputs": [
    {
     "name": "stdout",
     "output_type": "stream",
     "text": [
      "--2020-08-24 08:35:30--  http://cs231n.stanford.edu/tiny-imagenet-200.zip\n",
      "Resolving cs231n.stanford.edu (cs231n.stanford.edu)... 171.64.68.10\n",
      "Connecting to cs231n.stanford.edu (cs231n.stanford.edu)|171.64.68.10|:80... connected.\n",
      "HTTP request sent, awaiting response... 200 OK\n",
      "Length: 248100043 (237M) [application/zip]\n",
      "Saving to: ‘tiny-imagenet-200.zip.2’\n",
      "\n",
      "tiny-imagenet-200.z 100%[===================>] 236.61M  31.9MB/s    in 12s     \n",
      "\n",
      "2020-08-24 08:35:47 (19.3 MB/s) - ‘tiny-imagenet-200.zip.2’ saved [248100043/248100043]\n",
      "\n"
     ]
    }
   ],
   "source": [
    "!wget http://cs231n.stanford.edu/tiny-imagenet-200.zip\n",
    "!unzip -o -qq 'tiny-imagenet-200.zip'\n"
   ]
  },
  {
   "cell_type": "code",
   "execution_count": 2,
   "metadata": {},
   "outputs": [],
   "source": [
    "from tensorflow import keras\n",
    "import os,sys\n",
    "from matplotlib import pyplot\n",
    "import pandas as pd\n",
    "\n",
    "from tensorflow.keras.models import Sequential, Model\n",
    "from tensorflow.keras.layers import Dense, Conv2D, MaxPool2D , Flatten, MaxPooling2D\n",
    "from tensorflow.keras.optimizers import Adam, SGD\n",
    "from tensorflow.keras.preprocessing.image import ImageDataGenerator\n",
    "from tensorflow.keras.callbacks import ModelCheckpoint, EarlyStopping\n",
    "\n",
    "import numpy as np"
   ]
  },
  {
   "cell_type": "code",
   "execution_count": 3,
   "metadata": {
    "scrolled": true
   },
   "outputs": [
    {
     "data": {
      "text/html": [
       "<div>\n",
       "<style scoped>\n",
       "    .dataframe tbody tr th:only-of-type {\n",
       "        vertical-align: middle;\n",
       "    }\n",
       "\n",
       "    .dataframe tbody tr th {\n",
       "        vertical-align: top;\n",
       "    }\n",
       "\n",
       "    .dataframe thead th {\n",
       "        text-align: right;\n",
       "    }\n",
       "</style>\n",
       "<table border=\"1\" class=\"dataframe\">\n",
       "  <thead>\n",
       "    <tr style=\"text-align: right;\">\n",
       "      <th></th>\n",
       "      <th>File</th>\n",
       "      <th>Class</th>\n",
       "    </tr>\n",
       "  </thead>\n",
       "  <tbody>\n",
       "    <tr>\n",
       "      <th>0</th>\n",
       "      <td>val_0.JPEG</td>\n",
       "      <td>n03444034</td>\n",
       "    </tr>\n",
       "    <tr>\n",
       "      <th>1</th>\n",
       "      <td>val_1.JPEG</td>\n",
       "      <td>n04067472</td>\n",
       "    </tr>\n",
       "    <tr>\n",
       "      <th>2</th>\n",
       "      <td>val_2.JPEG</td>\n",
       "      <td>n04070727</td>\n",
       "    </tr>\n",
       "  </tbody>\n",
       "</table>\n",
       "</div>"
      ],
      "text/plain": [
       "         File      Class\n",
       "0  val_0.JPEG  n03444034\n",
       "1  val_1.JPEG  n04067472\n",
       "2  val_2.JPEG  n04070727"
      ]
     },
     "execution_count": 3,
     "metadata": {},
     "output_type": "execute_result"
    }
   ],
   "source": [
    "val_data = pd.read_csv('./tiny-imagenet-200/val/val_annotations.txt', sep='\\t', header=None, names=['File', 'Class', 'X', 'Y', 'H', 'W'])\n",
    "val_data.drop(['X', 'Y', 'H', 'W'], axis=1, inplace=True)\n",
    "val_data.head(3)\n"
   ]
  },
  {
   "cell_type": "code",
   "execution_count": 9,
   "metadata": {},
   "outputs": [],
   "source": [
    "def define_baseline_model():\n",
    "    model = Sequential()\n",
    "    model.add(Conv2D(64, (3, 3), activation='relu', kernel_initializer='he_uniform', padding='same', input_shape=(64, 64, 3)))\n",
    "    model.add(MaxPooling2D((2, 2)))\n",
    "    model.add(Flatten())\n",
    "    model.add(Dense(1024, activation='relu'))\n",
    "    model.add(Dense(200, activation='softmax'))\n",
    "    model.summary()\n",
    "    return model\n"
   ]
  },
  {
   "cell_type": "code",
   "execution_count": null,
   "metadata": {},
   "outputs": [],
   "source": [
    "# define a cnn model with two VGG blocks\n",
    "def define_two_blocks_model():\n",
    "    model = Sequential()\n",
    "    model.add(Conv2D(64, (3, 3), activation='relu', kernel_initializer='he_uniform', padding='same', input_shape=(64, 64, 3)))\n",
    "    model.add(MaxPooling2D((2, 2)))\n",
    "    model.add(Conv2D(128, (3, 3), activation='relu', kernel_initializer='he_uniform', padding='same'))\n",
    "    model.add(MaxPooling2D((2, 2)))\n",
    "    model.add(Flatten())\n",
    "    model.add(Dense(1024, activation='relu'))\n",
    "    model.add(Dense(200, activation='softmax'))\n",
    "    model.summary()\n",
    "    return model"
   ]
  },
  {
   "cell_type": "code",
   "execution_count": null,
   "metadata": {},
   "outputs": [],
   "source": [
    "# define a cnn model with three VGG blocks\n",
    "def define_three_blocks_model():\n",
    "    model = Sequential()\n",
    "    model.add(Conv2D(64, (3, 3), activation='relu', kernel_initializer='he_uniform', padding='same', input_shape=(64, 64, 3)))\n",
    "    model.add(MaxPooling2D((2, 2)))\n",
    "    model.add(Conv2D(128, (3, 3), activation='relu', kernel_initializer='he_uniform', padding='same'))\n",
    "    model.add(MaxPooling2D((2, 2)))\n",
    "    model.add(Conv2D(256, (3, 3), activation='relu', kernel_initializer='he_uniform', padding='same'))\n",
    "    model.add(MaxPooling2D((2, 2)))\n",
    "    model.add(Flatten())\n",
    "    model.add(Dense(1024, activation='relu'))\n",
    "    model.add(Dense(200, activation='softmax'))\n",
    "    model.summary()\n",
    "    return model"
   ]
  },
  {
   "cell_type": "code",
   "execution_count": null,
   "metadata": {},
   "outputs": [],
   "source": [
    "# define a cnn model with four VGG blocks\n",
    "def define_four_blocks_model():\n",
    "    model = Sequential()\n",
    "    model.add(Conv2D(64, (3, 3), activation='relu', kernel_initializer='he_uniform', padding='same', input_shape=(64, 64, 3)))\n",
    "    model.add(MaxPooling2D((2, 2)))\n",
    "    model.add(Conv2D(128, (3, 3), activation='relu', kernel_initializer='he_uniform', padding='same'))\n",
    "    model.add(MaxPooling2D((2, 2)))\n",
    "    model.add(Conv2D(256, (3, 3), activation='relu', kernel_initializer='he_uniform', padding='same'))\n",
    "    model.add(MaxPooling2D((2, 2)))\n",
    "    model.add(Conv2D(512, (3, 3), activation='relu', kernel_initializer='he_uniform', padding='same'))\n",
    "    model.add(MaxPooling2D((2, 2)))\n",
    "    model.add(Flatten())\n",
    "    model.add(Dense(1024, activation='relu'))\n",
    "    model.add(Dense(200, activation='softmax'))\n",
    "    model.summary()\n",
    "    return model"
   ]
  },
  {
   "cell_type": "code",
   "execution_count": null,
   "metadata": {},
   "outputs": [],
   "source": [
    "# define a cnn model with five VGG blocks\n",
    "def define_five_blocks_model():\n",
    "    model = Sequential()\n",
    "    model.add(Conv2D(64, (3, 3), activation='relu', kernel_initializer='he_uniform', padding='same', input_shape=(200, 200, 3)))\n",
    "    model.add(MaxPooling2D((2, 2)))\n",
    "    model.add(Conv2D(128, (3, 3), activation='relu', kernel_initializer='he_uniform', padding='same'))\n",
    "    model.add(MaxPooling2D((2, 2)))\n",
    "    model.add(Conv2D(256, (3, 3), activation='relu', kernel_initializer='he_uniform', padding='same'))\n",
    "    model.add(MaxPooling2D((2, 2)))\n",
    "    model.add(Conv2D(512, (3, 3), activation='relu', kernel_initializer='he_uniform', padding='same'))\n",
    "    model.add(MaxPooling2D((2, 2)))\n",
    "    model.add(Conv2D(512, (3, 3), activation='relu', kernel_initializer='he_uniform', padding='same'))\n",
    "    model.add(MaxPooling2D((2, 2)))\n",
    "    model.add(Flatten())\n",
    "    model.add(Dense(1024, activation='relu'))\n",
    "    model.add(Dense(200, activation='softmax'))\n",
    "    model.summary()\n",
    "    return model"
   ]
  },
  {
   "cell_type": "code",
   "execution_count": 10,
   "metadata": {},
   "outputs": [],
   "source": [
    "# define a cnn model with four VGG blocks and 2 conv2d in each block\n",
    "def define_four_blocks_model_double_conv2d():\n",
    "    model = Sequential()\n",
    "    model.add(Conv2D(64, (3, 3), activation='relu', kernel_initializer='he_uniform', padding='same', input_shape=(200, 200, 3)))\n",
    "    model.add(Conv2D(64, (3, 3), activation='relu', kernel_initializer='he_uniform', padding='same'))\n",
    "    model.add(MaxPooling2D((2, 2)))\n",
    "    model.add(Conv2D(128, (3, 3), activation='relu', kernel_initializer='he_uniform', padding='same'))\n",
    "    model.add(Conv2D(128, (3, 3), activation='relu', kernel_initializer='he_uniform', padding='same'))\n",
    "    model.add(MaxPooling2D((2, 2)))\n",
    "    model.add(Conv2D(256, (3, 3), activation='relu', kernel_initializer='he_uniform', padding='same'))\n",
    "    model.add(Conv2D(256, (3, 3), activation='relu', kernel_initializer='he_uniform', padding='same'))\n",
    "    model.add(MaxPooling2D((2, 2)))\n",
    "    model.add(Conv2D(512, (3, 3), activation='relu', kernel_initializer='he_uniform', padding='same'))\n",
    "    model.add(Conv2D(512, (3, 3), activation='relu', kernel_initializer='he_uniform', padding='same'))\n",
    "    model.add(MaxPooling2D((2, 2)))\n",
    "    model.add(Flatten())\n",
    "    model.add(Dense(1024, activation='relu'))\n",
    "    model.add(Dense(200, activation='softmax'))\n",
    "    model.summary()\n",
    "    return model\n"
   ]
  },
  {
   "cell_type": "code",
   "execution_count": 11,
   "metadata": {},
   "outputs": [],
   "source": [
    "# plot diagnostic learning curves\n",
    "def summarize_diagnostics(history):\n",
    "    # plot loss\n",
    "    pyplot.subplot(211)\n",
    "    pyplot.title('Cross Entropy Loss')\n",
    "    pyplot.plot(history.history['loss'], color='blue', label='train')\n",
    "    pyplot.plot(history.history['val_loss'], color='orange', label='test')\n",
    "    # plot accuracy\n",
    "    pyplot.subplot(212)\n",
    "    pyplot.title('Classification Accuracy')\n",
    "    pyplot.plot(history.history['accuracy'], color='blue', label='train')\n",
    "    pyplot.plot(history.history['val_accuracy'], color='orange', label='test')\n",
    "    # save plot to file\n",
    "    filename = sys.argv[0].split('/')[-1]\n",
    "    pyplot.savefig(filename + '_plot.png')\n",
    "    pyplot.show()\n",
    "    pyplot.close()\n"
   ]
  },
  {
   "cell_type": "code",
   "execution_count": 12,
   "metadata": {},
   "outputs": [],
   "source": [
    "# run the test harness for evaluating a model\n",
    "def run_test_harness(model):\n",
    "    # compile model\n",
    "    model.compile(loss='categorical_crossentropy',optimizer='adam',\n",
    "              metrics=['accuracy'])\n",
    "    # create data generators\n",
    "    train_datagen = ImageDataGenerator(rescale=1.0/255.0,\n",
    "        width_shift_range=0.1, height_shift_range=0.1, horizontal_flip=True)\n",
    "    test_datagen = ImageDataGenerator(rescale=1.0/255.0)\n",
    "    # prepare iterators\n",
    "    train_it = train_datagen.flow_from_directory( r'./tiny-imagenet-200/train/', target_size=(64, 64), color_mode='rgb', \n",
    "                                                 batch_size=256, class_mode='categorical', shuffle=True, seed=42)\n",
    "\n",
    "    test_it = test_datagen.flow_from_dataframe(val_data, directory='./tiny-imagenet-200/val/images/', x_col='File', y_col='Class', target_size=(64, 64),\n",
    "                                                    color_mode='rgb', class_mode='categorical', batch_size=256, shuffle=True, seed=42)\n",
    "\n",
    "    # Create EarlyStopping callback which stopps after 5 epochs of non-increasing accuracy\n",
    "    early = EarlyStopping(monitor='val_accuracy', min_delta=0, patience=10, verbose=1, mode='auto')\n",
    "    # fit model\n",
    "    history = model.fit(train_it, steps_per_epoch=200,\n",
    "        validation_data=test_it, validation_steps=20, epochs=25, callbacks=[early])\n",
    "    # evaluate model\n",
    "    _, acc = model.evaluate(test_it, steps=len(test_it))\n",
    "    print('Test Accuracy > %.3f' % (acc * 100.0))\n",
    "    # learning curves\n",
    "    summarize_diagnostics(history)\n"
   ]
  },
  {
   "cell_type": "code",
   "execution_count": 13,
   "metadata": {
    "scrolled": true
   },
   "outputs": [
    {
     "name": "stdout",
     "output_type": "stream",
     "text": [
      "Model: \"sequential_1\"\n",
      "_________________________________________________________________\n",
      "Layer (type)                 Output Shape              Param #   \n",
      "=================================================================\n",
      "conv2d_1 (Conv2D)            (None, 64, 64, 64)        1792      \n",
      "_________________________________________________________________\n",
      "max_pooling2d_1 (MaxPooling2 (None, 32, 32, 64)        0         \n",
      "_________________________________________________________________\n",
      "flatten_1 (Flatten)          (None, 65536)             0         \n",
      "_________________________________________________________________\n",
      "dense_2 (Dense)              (None, 1024)              67109888  \n",
      "_________________________________________________________________\n",
      "dense_3 (Dense)              (None, 200)               205000    \n",
      "=================================================================\n",
      "Total params: 67,316,680\n",
      "Trainable params: 67,316,680\n",
      "Non-trainable params: 0\n",
      "_________________________________________________________________\n",
      "Found 100000 images belonging to 200 classes.\n",
      "Found 10000 validated image filenames belonging to 200 classes.\n",
      "Epoch 1/25\n",
      "200/200 [==============================] - 76s 379ms/step - loss: 8.4122 - accuracy: 0.0244 - val_loss: 4.9319 - val_accuracy: 0.0475\n",
      "Epoch 2/25\n",
      "200/200 [==============================] - 74s 368ms/step - loss: 4.7611 - accuracy: 0.0607 - val_loss: 4.6630 - val_accuracy: 0.0738\n",
      "Epoch 3/25\n",
      "200/200 [==============================] - 74s 370ms/step - loss: 4.4996 - accuracy: 0.0891 - val_loss: 4.4916 - val_accuracy: 0.0889\n",
      "Epoch 4/25\n",
      "200/200 [==============================] - 75s 373ms/step - loss: 4.3203 - accuracy: 0.1109 - val_loss: 4.3459 - val_accuracy: 0.1186\n",
      "Epoch 5/25\n",
      "200/200 [==============================] - 74s 370ms/step - loss: 4.1928 - accuracy: 0.1296 - val_loss: 4.2175 - val_accuracy: 0.1219\n",
      "Epoch 6/25\n",
      "200/200 [==============================] - 74s 369ms/step - loss: 4.0821 - accuracy: 0.1444 - val_loss: 4.2113 - val_accuracy: 0.1387\n",
      "Epoch 7/25\n",
      "200/200 [==============================] - 74s 369ms/step - loss: 4.0016 - accuracy: 0.1557 - val_loss: 4.1294 - val_accuracy: 0.1410\n",
      "Epoch 8/25\n",
      "200/200 [==============================] - 74s 368ms/step - loss: 3.9265 - accuracy: 0.1657 - val_loss: 3.9845 - val_accuracy: 0.1686\n",
      "Epoch 9/25\n",
      "200/200 [==============================] - 74s 369ms/step - loss: 3.8607 - accuracy: 0.1748 - val_loss: 3.9417 - val_accuracy: 0.1682\n",
      "Epoch 10/25\n",
      "200/200 [==============================] - 74s 368ms/step - loss: 3.8154 - accuracy: 0.1833 - val_loss: 3.9166 - val_accuracy: 0.1711\n",
      "Epoch 11/25\n",
      "200/200 [==============================] - 74s 368ms/step - loss: 3.7686 - accuracy: 0.1894 - val_loss: 3.9265 - val_accuracy: 0.1715\n",
      "Epoch 12/25\n",
      "200/200 [==============================] - 74s 368ms/step - loss: 3.7274 - accuracy: 0.1951 - val_loss: 3.9515 - val_accuracy: 0.1729\n",
      "Epoch 13/25\n",
      "200/200 [==============================] - 73s 367ms/step - loss: 3.6927 - accuracy: 0.1990 - val_loss: 3.9417 - val_accuracy: 0.1641\n",
      "Epoch 14/25\n",
      "200/200 [==============================] - 74s 368ms/step - loss: 3.6596 - accuracy: 0.2039 - val_loss: 3.8908 - val_accuracy: 0.1775\n",
      "Epoch 15/25\n",
      "200/200 [==============================] - 74s 368ms/step - loss: 3.6301 - accuracy: 0.2088 - val_loss: 3.7605 - val_accuracy: 0.1898\n",
      "Epoch 16/25\n",
      "200/200 [==============================] - 74s 369ms/step - loss: 3.5970 - accuracy: 0.2110 - val_loss: 3.8450 - val_accuracy: 0.1756\n",
      "Epoch 17/25\n",
      "200/200 [==============================] - 74s 368ms/step - loss: 3.5777 - accuracy: 0.2176 - val_loss: 3.8286 - val_accuracy: 0.1871\n",
      "Epoch 18/25\n",
      "200/200 [==============================] - 74s 368ms/step - loss: 3.5455 - accuracy: 0.2231 - val_loss: 3.7735 - val_accuracy: 0.1867\n",
      "Epoch 19/25\n",
      "200/200 [==============================] - 74s 368ms/step - loss: 3.5148 - accuracy: 0.2277 - val_loss: 3.7480 - val_accuracy: 0.1965\n",
      "Epoch 20/25\n",
      "200/200 [==============================] - 74s 368ms/step - loss: 3.4981 - accuracy: 0.2281 - val_loss: 3.7135 - val_accuracy: 0.2045\n",
      "Epoch 21/25\n",
      "200/200 [==============================] - 74s 369ms/step - loss: 3.4822 - accuracy: 0.2331 - val_loss: 3.7683 - val_accuracy: 0.1973\n",
      "Epoch 22/25\n",
      "200/200 [==============================] - 74s 368ms/step - loss: 3.4715 - accuracy: 0.2346 - val_loss: 3.7593 - val_accuracy: 0.2008\n",
      "Epoch 23/25\n",
      "200/200 [==============================] - 74s 368ms/step - loss: 3.4589 - accuracy: 0.2361 - val_loss: 3.6951 - val_accuracy: 0.2035\n",
      "Epoch 24/25\n",
      "200/200 [==============================] - 73s 367ms/step - loss: 3.4280 - accuracy: 0.2393 - val_loss: 3.7089 - val_accuracy: 0.2004\n",
      "Epoch 25/25\n",
      "200/200 [==============================] - 74s 370ms/step - loss: 3.4018 - accuracy: 0.2451 - val_loss: 3.6793 - val_accuracy: 0.2061\n",
      "40/40 [==============================] - 4s 88ms/step - loss: 3.6703 - accuracy: 0.2086\n",
      "Test Accuracy > 20.860\n"
     ]
    },
    {
     "data": {
      "image/png": "[encoded data removed]",
      "text/plain": [
       "<Figure size 432x288 with 2 Axes>"
      ]
     },
     "metadata": {
      "needs_background": "light"
     },
     "output_type": "display_data"
    }
   ],
   "source": [
    "model = define_baseline_model()\n",
    "run_test_harness(model)"
   ]
  },
  {
   "cell_type": "code",
   "execution_count": 16,
   "metadata": {},
   "outputs": [],
   "source": [
    "model.save('baseline.h5')"
   ]
  },
  {
   "cell_type": "code",
   "execution_count": null,
   "metadata": {},
   "outputs": [],
   "source": []
  }
 ],
 "metadata": {
  "kernelspec": {
   "display_name": "Python 3",
   "language": "python",
   "name": "python3"
  },
  "language_info": {
   "codemirror_mode": {
    "name": "ipython",
    "version": 3
   },
   "file_extension": ".py",
   "mimetype": "text/x-python",
   "name": "python",
   "nbconvert_exporter": "python",
   "pygments_lexer": "ipython3",
   "version": "3.6.9"
  }
 },
 "nbformat": 4,
 "nbformat_minor": 2
}
