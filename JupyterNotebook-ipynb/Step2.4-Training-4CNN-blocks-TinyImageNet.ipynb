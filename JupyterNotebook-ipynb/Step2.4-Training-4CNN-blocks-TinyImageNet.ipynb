{
 "cells": [
  {
   "cell_type": "code",
   "execution_count": 1,
   "metadata": {
    "scrolled": true
   },
   "outputs": [
    {
     "name": "stdout",
     "output_type": "stream",
     "text": [
      "--2020-08-24 08:35:30--  http://cs231n.stanford.edu/tiny-imagenet-200.zip\n",
      "Resolving cs231n.stanford.edu (cs231n.stanford.edu)... 171.64.68.10\n",
      "Connecting to cs231n.stanford.edu (cs231n.stanford.edu)|171.64.68.10|:80... connected.\n",
      "HTTP request sent, awaiting response... 200 OK\n",
      "Length: 248100043 (237M) [application/zip]\n",
      "Saving to: ‘tiny-imagenet-200.zip.2’\n",
      "\n",
      "tiny-imagenet-200.z 100%[===================>] 236.61M  31.9MB/s    in 12s     \n",
      "\n",
      "2020-08-24 08:35:47 (19.3 MB/s) - ‘tiny-imagenet-200.zip.2’ saved [248100043/248100043]\n",
      "\n"
     ]
    }
   ],
   "source": [
    "!wget http://cs231n.stanford.edu/tiny-imagenet-200.zip\n",
    "!unzip -o -qq 'tiny-imagenet-200.zip'\n"
   ]
  },
  {
   "cell_type": "code",
   "execution_count": 1,
   "metadata": {},
   "outputs": [],
   "source": [
    "from tensorflow import keras\n",
    "import os,sys\n",
    "from matplotlib import pyplot\n",
    "import pandas as pd\n",
    "\n",
    "from tensorflow.keras.models import Sequential, Model\n",
    "from tensorflow.keras.layers import Dense, Conv2D, MaxPool2D , Flatten, MaxPooling2D\n",
    "from tensorflow.keras.optimizers import Adam, SGD\n",
    "from tensorflow.keras.preprocessing.image import ImageDataGenerator\n",
    "from tensorflow.keras.callbacks import ModelCheckpoint, EarlyStopping\n",
    "\n",
    "import numpy as np"
   ]
  },
  {
   "cell_type": "code",
   "execution_count": 2,
   "metadata": {
    "scrolled": true
   },
   "outputs": [
    {
     "data": {
      "text/html": [
       "<div>\n",
       "<style scoped>\n",
       "    .dataframe tbody tr th:only-of-type {\n",
       "        vertical-align: middle;\n",
       "    }\n",
       "\n",
       "    .dataframe tbody tr th {\n",
       "        vertical-align: top;\n",
       "    }\n",
       "\n",
       "    .dataframe thead th {\n",
       "        text-align: right;\n",
       "    }\n",
       "</style>\n",
       "<table border=\"1\" class=\"dataframe\">\n",
       "  <thead>\n",
       "    <tr style=\"text-align: right;\">\n",
       "      <th></th>\n",
       "      <th>File</th>\n",
       "      <th>Class</th>\n",
       "    </tr>\n",
       "  </thead>\n",
       "  <tbody>\n",
       "    <tr>\n",
       "      <th>0</th>\n",
       "      <td>val_0.JPEG</td>\n",
       "      <td>n03444034</td>\n",
       "    </tr>\n",
       "    <tr>\n",
       "      <th>1</th>\n",
       "      <td>val_1.JPEG</td>\n",
       "      <td>n04067472</td>\n",
       "    </tr>\n",
       "    <tr>\n",
       "      <th>2</th>\n",
       "      <td>val_2.JPEG</td>\n",
       "      <td>n04070727</td>\n",
       "    </tr>\n",
       "  </tbody>\n",
       "</table>\n",
       "</div>"
      ],
      "text/plain": [
       "         File      Class\n",
       "0  val_0.JPEG  n03444034\n",
       "1  val_1.JPEG  n04067472\n",
       "2  val_2.JPEG  n04070727"
      ]
     },
     "execution_count": 2,
     "metadata": {},
     "output_type": "execute_result"
    }
   ],
   "source": [
    "val_data = pd.read_csv('./tiny-imagenet-200/val/val_annotations.txt', sep='\\t', header=None, names=['File', 'Class', 'X', 'Y', 'H', 'W'])\n",
    "val_data.drop(['X', 'Y', 'H', 'W'], axis=1, inplace=True)\n",
    "val_data.head(3)\n"
   ]
  },
  {
   "cell_type": "code",
   "execution_count": 3,
   "metadata": {},
   "outputs": [],
   "source": [
    "def define_baseline_model():\n",
    "    model = Sequential()\n",
    "    model.add(Conv2D(64, (3, 3), activation='relu', kernel_initializer='he_uniform', padding='same', input_shape=(64, 64, 3)))\n",
    "    model.add(MaxPooling2D((2, 2)))\n",
    "    model.add(Flatten())\n",
    "    model.add(Dense(1024, activation='relu'))\n",
    "    model.add(Dense(200, activation='softmax'))\n",
    "    model.summary()\n",
    "    return model\n"
   ]
  },
  {
   "cell_type": "code",
   "execution_count": 4,
   "metadata": {},
   "outputs": [],
   "source": [
    "# define a cnn model with four VGG blocks\n",
    "def define_four_blocks_model():\n",
    "    model = Sequential()\n",
    "    model.add(Conv2D(64, (3, 3), activation='relu', kernel_initializer='he_uniform', padding='same', input_shape=(64, 64, 3)))\n",
    "    model.add(MaxPooling2D((2, 2)))\n",
    "    model.add(Conv2D(128, (3, 3), activation='relu', kernel_initializer='he_uniform', padding='same'))\n",
    "    model.add(MaxPooling2D((2, 2)))\n",
    "    model.add(Conv2D(256, (3, 3), activation='relu', kernel_initializer='he_uniform', padding='same'))\n",
    "    model.add(MaxPooling2D((2, 2)))\n",
    "    model.add(Conv2D(512, (3, 3), activation='relu', kernel_initializer='he_uniform', padding='same'))\n",
    "    model.add(MaxPooling2D((2, 2)))\n",
    "    model.add(Flatten())\n",
    "    model.add(Dense(1024, activation='relu'))\n",
    "    model.add(Dense(200, activation='softmax'))\n",
    "    model.summary()\n",
    "    return model"
   ]
  },
  {
   "cell_type": "code",
   "execution_count": 5,
   "metadata": {},
   "outputs": [],
   "source": [
    "# plot diagnostic learning curves\n",
    "def summarize_diagnostics(history):\n",
    "    # plot loss\n",
    "    pyplot.subplot(211)\n",
    "    pyplot.title('Cross Entropy Loss')\n",
    "    pyplot.plot(history.history['loss'], color='blue', label='train')\n",
    "    pyplot.plot(history.history['val_loss'], color='orange', label='test')\n",
    "    # plot accuracy\n",
    "    pyplot.subplot(212)\n",
    "    pyplot.title('Classification Accuracy')\n",
    "    pyplot.plot(history.history['accuracy'], color='blue', label='train')\n",
    "    pyplot.plot(history.history['val_accuracy'], color='orange', label='test')\n",
    "    # save plot to file\n",
    "    filename = sys.argv[0].split('/')[-1]\n",
    "    pyplot.savefig(filename + '_plot.png')\n",
    "    pyplot.show()\n",
    "    pyplot.close()\n"
   ]
  },
  {
   "cell_type": "code",
   "execution_count": 6,
   "metadata": {},
   "outputs": [],
   "source": [
    "# run the test harness for evaluating a model\n",
    "def run_test_harness(model):\n",
    "    # compile model\n",
    "    model.compile(loss='categorical_crossentropy',optimizer='adam',\n",
    "              metrics=['accuracy'])\n",
    "    # create data generators\n",
    "    train_datagen = ImageDataGenerator(rescale=1.0/255.0,\n",
    "        width_shift_range=0.1, height_shift_range=0.1, horizontal_flip=True)\n",
    "    test_datagen = ImageDataGenerator(rescale=1.0/255.0)\n",
    "    # prepare iterators\n",
    "    train_it = train_datagen.flow_from_directory( r'./tiny-imagenet-200/train/', target_size=(64, 64), color_mode='rgb', \n",
    "                                                 batch_size=256, class_mode='categorical', shuffle=True, seed=42)\n",
    "\n",
    "    test_it = test_datagen.flow_from_dataframe(val_data, directory='./tiny-imagenet-200/val/images/', x_col='File', y_col='Class', target_size=(64, 64),\n",
    "                                                    color_mode='rgb', class_mode='categorical', batch_size=256, shuffle=True, seed=42)\n",
    "\n",
    "    # Create EarlyStopping callback which stopps after 5 epochs of non-increasing accuracy\n",
    "    early = EarlyStopping(monitor='val_accuracy', min_delta=0, patience=10, verbose=1, mode='auto')\n",
    "    # fit model\n",
    "    history = model.fit(train_it, steps_per_epoch=200,\n",
    "        validation_data=test_it, validation_steps=20, epochs=25, callbacks=[early])\n",
    "    # evaluate model\n",
    "    _, acc = model.evaluate(test_it, steps=len(test_it))\n",
    "    print('Test Accuracy > %.3f' % (acc * 100.0))\n",
    "    # learning curves\n",
    "    summarize_diagnostics(history)\n"
   ]
  },
  {
   "cell_type": "code",
   "execution_count": 7,
   "metadata": {},
   "outputs": [
    {
     "name": "stdout",
     "output_type": "stream",
     "text": [
      "Model: \"sequential\"\n",
      "_________________________________________________________________\n",
      "Layer (type)                 Output Shape              Param #   \n",
      "=================================================================\n",
      "conv2d (Conv2D)              (None, 64, 64, 64)        1792      \n",
      "_________________________________________________________________\n",
      "max_pooling2d (MaxPooling2D) (None, 32, 32, 64)        0         \n",
      "_________________________________________________________________\n",
      "conv2d_1 (Conv2D)            (None, 32, 32, 128)       73856     \n",
      "_________________________________________________________________\n",
      "max_pooling2d_1 (MaxPooling2 (None, 16, 16, 128)       0         \n",
      "_________________________________________________________________\n",
      "conv2d_2 (Conv2D)            (None, 16, 16, 256)       295168    \n",
      "_________________________________________________________________\n",
      "max_pooling2d_2 (MaxPooling2 (None, 8, 8, 256)         0         \n",
      "_________________________________________________________________\n",
      "conv2d_3 (Conv2D)            (None, 8, 8, 512)         1180160   \n",
      "_________________________________________________________________\n",
      "max_pooling2d_3 (MaxPooling2 (None, 4, 4, 512)         0         \n",
      "_________________________________________________________________\n",
      "flatten (Flatten)            (None, 8192)              0         \n",
      "_________________________________________________________________\n",
      "dense (Dense)                (None, 1024)              8389632   \n",
      "_________________________________________________________________\n",
      "dense_1 (Dense)              (None, 200)               205000    \n",
      "=================================================================\n",
      "Total params: 10,145,608\n",
      "Trainable params: 10,145,608\n",
      "Non-trainable params: 0\n",
      "_________________________________________________________________\n",
      "Found 100000 images belonging to 200 classes.\n",
      "Found 10000 validated image filenames belonging to 200 classes.\n",
      "Epoch 1/25\n",
      "200/200 [==============================] - 181s 905ms/step - loss: 4.9562 - accuracy: 0.0395 - val_loss: 4.4988 - val_accuracy: 0.0764\n",
      "Epoch 2/25\n",
      "200/200 [==============================] - 181s 904ms/step - loss: 4.2348 - accuracy: 0.1150 - val_loss: 3.9970 - val_accuracy: 0.1447\n",
      "Epoch 3/25\n",
      "200/200 [==============================] - 180s 901ms/step - loss: 3.8529 - accuracy: 0.1681 - val_loss: 3.8964 - val_accuracy: 0.1646\n",
      "Epoch 4/25\n",
      "200/200 [==============================] - 180s 901ms/step - loss: 3.5971 - accuracy: 0.2073 - val_loss: 3.5747 - val_accuracy: 0.2105\n",
      "Epoch 5/25\n",
      "200/200 [==============================] - 180s 900ms/step - loss: 3.3764 - accuracy: 0.2456 - val_loss: 3.4965 - val_accuracy: 0.2271\n",
      "Epoch 6/25\n",
      "200/200 [==============================] - 180s 899ms/step - loss: 3.2168 - accuracy: 0.2691 - val_loss: 3.3680 - val_accuracy: 0.2463\n",
      "Epoch 7/25\n",
      "200/200 [==============================] - 180s 900ms/step - loss: 3.0947 - accuracy: 0.2924 - val_loss: 3.2467 - val_accuracy: 0.2707\n",
      "Epoch 8/25\n",
      "200/200 [==============================] - 180s 900ms/step - loss: 2.9790 - accuracy: 0.3146 - val_loss: 3.1376 - val_accuracy: 0.2895\n",
      "Epoch 9/25\n",
      "200/200 [==============================] - 180s 899ms/step - loss: 2.8531 - accuracy: 0.3348 - val_loss: 3.1026 - val_accuracy: 0.2945\n",
      "Epoch 10/25\n",
      "200/200 [==============================] - 183s 917ms/step - loss: 2.7771 - accuracy: 0.3487 - val_loss: 3.0771 - val_accuracy: 0.2992\n",
      "Epoch 11/25\n",
      "200/200 [==============================] - 180s 900ms/step - loss: 2.6849 - accuracy: 0.3661 - val_loss: 3.0339 - val_accuracy: 0.3131\n",
      "Epoch 12/25\n",
      "200/200 [==============================] - 180s 898ms/step - loss: 2.6028 - accuracy: 0.3816 - val_loss: 3.0905 - val_accuracy: 0.3020\n",
      "Epoch 13/25\n",
      "200/200 [==============================] - 180s 899ms/step - loss: 2.5213 - accuracy: 0.3976 - val_loss: 3.0395 - val_accuracy: 0.3168\n",
      "Epoch 14/25\n",
      "200/200 [==============================] - 179s 897ms/step - loss: 2.4604 - accuracy: 0.4082 - val_loss: 3.0639 - val_accuracy: 0.3166\n",
      "Epoch 15/25\n",
      "200/200 [==============================] - 179s 897ms/step - loss: 2.4009 - accuracy: 0.4193 - val_loss: 3.0044 - val_accuracy: 0.3266\n",
      "Epoch 16/25\n",
      "200/200 [==============================] - 180s 899ms/step - loss: 2.3336 - accuracy: 0.4337 - val_loss: 2.9747 - val_accuracy: 0.3314\n",
      "Epoch 17/25\n",
      "200/200 [==============================] - 180s 899ms/step - loss: 2.2692 - accuracy: 0.4462 - val_loss: 3.0845 - val_accuracy: 0.3172\n",
      "Epoch 18/25\n",
      "200/200 [==============================] - 180s 899ms/step - loss: 2.2062 - accuracy: 0.4619 - val_loss: 3.0270 - val_accuracy: 0.3383\n",
      "Epoch 19/25\n",
      "200/200 [==============================] - 180s 898ms/step - loss: 2.1603 - accuracy: 0.4691 - val_loss: 3.0189 - val_accuracy: 0.3256\n",
      "Epoch 20/25\n",
      "200/200 [==============================] - 180s 898ms/step - loss: 2.1148 - accuracy: 0.4771 - val_loss: 2.9350 - val_accuracy: 0.3596\n",
      "Epoch 21/25\n",
      "200/200 [==============================] - 179s 897ms/step - loss: 2.0774 - accuracy: 0.4848 - val_loss: 3.0217 - val_accuracy: 0.3430\n",
      "Epoch 22/25\n",
      "200/200 [==============================] - 179s 896ms/step - loss: 2.0379 - accuracy: 0.4933 - val_loss: 3.0878 - val_accuracy: 0.3334\n",
      "Epoch 23/25\n",
      "200/200 [==============================] - 180s 899ms/step - loss: 1.9719 - accuracy: 0.5074 - val_loss: 3.0642 - val_accuracy: 0.3459\n",
      "Epoch 24/25\n",
      "200/200 [==============================] - 180s 898ms/step - loss: 1.9303 - accuracy: 0.5159 - val_loss: 3.0736 - val_accuracy: 0.3533\n",
      "Epoch 25/25\n",
      "200/200 [==============================] - 179s 896ms/step - loss: 1.8987 - accuracy: 0.5225 - val_loss: 3.0299 - val_accuracy: 0.3447\n",
      "40/40 [==============================] - 8s 211ms/step - loss: 3.0286 - accuracy: 0.3497\n",
      "Test Accuracy > 34.970\n"
     ]
    },
    {
     "data": {
      "image/png": "[encoded data removed]",
      "text/plain": [
       "<Figure size 432x288 with 2 Axes>"
      ]
     },
     "metadata": {
      "needs_background": "light"
     },
     "output_type": "display_data"
    }
   ],
   "source": [
    "model4 = define_four_blocks_model()\n",
    "run_test_harness(model4)"
   ]
  },
  {
   "cell_type": "code",
   "execution_count": 8,
   "metadata": {},
   "outputs": [],
   "source": [
    "model4.save('4blocks-cnn.h5')"
   ]
  },
  {
   "cell_type": "code",
   "execution_count": 9,
   "metadata": {
    "scrolled": true
   },
   "outputs": [
    {
     "name": "stdout",
     "output_type": "stream",
     "text": [
      "Found 100000 images belonging to 200 classes.\n",
      "Found 10000 validated image filenames belonging to 200 classes.\n",
      "Epoch 1/25\n",
      "200/200 [==============================] - 179s 897ms/step - loss: 1.8753 - accuracy: 0.5300 - val_loss: 3.0167 - val_accuracy: 0.3559\n",
      "Epoch 2/25\n",
      "200/200 [==============================] - 179s 894ms/step - loss: 1.8215 - accuracy: 0.5390 - val_loss: 3.1531 - val_accuracy: 0.3518\n",
      "Epoch 3/25\n",
      "200/200 [==============================] - 179s 895ms/step - loss: 1.7624 - accuracy: 0.5506 - val_loss: 3.2448 - val_accuracy: 0.3492\n",
      "Epoch 4/25\n",
      "200/200 [==============================] - 179s 893ms/step - loss: 1.7336 - accuracy: 0.5549 - val_loss: 3.1366 - val_accuracy: 0.3555\n",
      "Epoch 5/25\n",
      "200/200 [==============================] - 179s 894ms/step - loss: 1.7063 - accuracy: 0.5632 - val_loss: 3.1807 - val_accuracy: 0.3432\n",
      "Epoch 6/25\n",
      "200/200 [==============================] - 179s 895ms/step - loss: 1.6668 - accuracy: 0.5726 - val_loss: 3.1798 - val_accuracy: 0.3562\n",
      "Epoch 7/25\n",
      "200/200 [==============================] - 179s 896ms/step - loss: 1.6305 - accuracy: 0.5813 - val_loss: 3.2659 - val_accuracy: 0.3365\n",
      "Epoch 8/25\n",
      "200/200 [==============================] - 179s 893ms/step - loss: 1.6060 - accuracy: 0.5867 - val_loss: 3.2209 - val_accuracy: 0.3549\n",
      "Epoch 9/25\n",
      "200/200 [==============================] - 179s 893ms/step - loss: 1.5810 - accuracy: 0.5900 - val_loss: 3.2929 - val_accuracy: 0.3643\n",
      "Epoch 10/25\n",
      "200/200 [==============================] - 179s 895ms/step - loss: 1.5513 - accuracy: 0.5989 - val_loss: 3.3962 - val_accuracy: 0.3410\n",
      "Epoch 11/25\n",
      "200/200 [==============================] - 178s 892ms/step - loss: 1.5263 - accuracy: 0.6021 - val_loss: 3.2614 - val_accuracy: 0.3572\n",
      "Epoch 12/25\n",
      "200/200 [==============================] - 179s 895ms/step - loss: 1.4874 - accuracy: 0.6113 - val_loss: 3.4738 - val_accuracy: 0.3309\n",
      "Epoch 13/25\n",
      "200/200 [==============================] - 180s 899ms/step - loss: 1.4655 - accuracy: 0.6155 - val_loss: 3.4070 - val_accuracy: 0.3375\n",
      "Epoch 14/25\n",
      "200/200 [==============================] - 179s 896ms/step - loss: 1.4627 - accuracy: 0.6154 - val_loss: 3.4914 - val_accuracy: 0.3232\n",
      "Epoch 15/25\n",
      "200/200 [==============================] - 179s 895ms/step - loss: 1.4221 - accuracy: 0.6239 - val_loss: 3.4216 - val_accuracy: 0.3422\n",
      "Epoch 16/25\n",
      "200/200 [==============================] - 179s 893ms/step - loss: 1.3910 - accuracy: 0.6316 - val_loss: 3.4517 - val_accuracy: 0.3479\n",
      "Epoch 17/25\n",
      "200/200 [==============================] - 179s 894ms/step - loss: 1.3773 - accuracy: 0.6358 - val_loss: 3.5041 - val_accuracy: 0.3428\n",
      "Epoch 18/25\n",
      "200/200 [==============================] - 179s 894ms/step - loss: 1.3534 - accuracy: 0.6404 - val_loss: 3.6049 - val_accuracy: 0.3443\n",
      "Epoch 19/25\n",
      "200/200 [==============================] - 179s 893ms/step - loss: 1.3237 - accuracy: 0.6484 - val_loss: 3.5213 - val_accuracy: 0.3426\n",
      "Epoch 00019: early stopping\n",
      "40/40 [==============================] - 8s 211ms/step - loss: 3.5176 - accuracy: 0.3447\n",
      "Test Accuracy > 34.470\n"
     ]
    },
    {
     "data": {
      "image/png": "[encoded data removed]",
      "text/plain": [
       "<Figure size 432x288 with 2 Axes>"
      ]
     },
     "metadata": {
      "needs_background": "light"
     },
     "output_type": "display_data"
    }
   ],
   "source": [
    "run_test_harness(model4)"
   ]
  },
  {
   "cell_type": "code",
   "execution_count": 10,
   "metadata": {},
   "outputs": [],
   "source": [
    "model4.save('4blocks-cnn-50-epochs.h5')"
   ]
  }
 ],
 "metadata": {
  "kernelspec": {
   "display_name": "Python 3",
   "language": "python",
   "name": "python3"
  },
  "language_info": {
   "codemirror_mode": {
    "name": "ipython",
    "version": 3
   },
   "file_extension": ".py",
   "mimetype": "text/x-python",
   "name": "python",
   "nbconvert_exporter": "python",
   "pygments_lexer": "ipython3",
   "version": "3.6.9"
  }
 },
 "nbformat": 4,
 "nbformat_minor": 2
}
