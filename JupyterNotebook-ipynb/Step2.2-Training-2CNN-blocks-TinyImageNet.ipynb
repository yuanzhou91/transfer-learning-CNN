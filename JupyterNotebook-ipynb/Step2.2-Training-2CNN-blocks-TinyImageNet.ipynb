{
 "cells": [
  {
   "cell_type": "code",
   "execution_count": 1,
   "metadata": {
    "scrolled": false
   },
   "outputs": [
    {
     "name": "stdout",
     "output_type": "stream",
     "text": [
      "--2020-08-24 20:12:52--  http://cs231n.stanford.edu/tiny-imagenet-200.zip\n",
      "Resolving cs231n.stanford.edu (cs231n.stanford.edu)... 171.64.68.10\n",
      "Connecting to cs231n.stanford.edu (cs231n.stanford.edu)|171.64.68.10|:80... connected.\n",
      "HTTP request sent, awaiting response... 200 OK\n",
      "Length: 248100043 (237M) [application/zip]\n",
      "Saving to: ‘tiny-imagenet-200.zip.2’\n",
      "\n",
      "tiny-imagenet-200.z 100%[===================>] 236.61M  41.3MB/s    in 6.0s    \n",
      "\n",
      "2020-08-24 20:12:58 (39.4 MB/s) - ‘tiny-imagenet-200.zip.2’ saved [248100043/248100043]\n",
      "\n"
     ]
    }
   ],
   "source": [
    "!wget http://cs231n.stanford.edu/tiny-imagenet-200.zip\n",
    "!unzip -o -qq 'tiny-imagenet-200.zip'\n"
   ]
  },
  {
   "cell_type": "code",
   "execution_count": 2,
   "metadata": {},
   "outputs": [],
   "source": [
    "from tensorflow import keras\n",
    "import os, sys\n",
    "\n",
    "from tensorflow.keras.models import Sequential\n",
    "from tensorflow.keras.layers import Dense, Conv2D, MaxPool2D , Flatten, MaxPooling2D, Dropout\n",
    "from tensorflow.keras.optimizers import Adam, SGD\n",
    "from tensorflow.keras.preprocessing.image import ImageDataGenerator\n",
    "from tensorflow.keras.callbacks import ModelCheckpoint, EarlyStopping\n",
    "\n",
    "import numpy as np\n",
    "import pandas as pd\n",
    "from matplotlib import pyplot"
   ]
  },
  {
   "cell_type": "code",
   "execution_count": 8,
   "metadata": {},
   "outputs": [
    {
     "data": {
      "text/html": [
       "<div>\n",
       "<style scoped>\n",
       "    .dataframe tbody tr th:only-of-type {\n",
       "        vertical-align: middle;\n",
       "    }\n",
       "\n",
       "    .dataframe tbody tr th {\n",
       "        vertical-align: top;\n",
       "    }\n",
       "\n",
       "    .dataframe thead th {\n",
       "        text-align: right;\n",
       "    }\n",
       "</style>\n",
       "<table border=\"1\" class=\"dataframe\">\n",
       "  <thead>\n",
       "    <tr style=\"text-align: right;\">\n",
       "      <th></th>\n",
       "      <th>File</th>\n",
       "      <th>Class</th>\n",
       "    </tr>\n",
       "  </thead>\n",
       "  <tbody>\n",
       "    <tr>\n",
       "      <th>0</th>\n",
       "      <td>val_0.JPEG</td>\n",
       "      <td>n03444034</td>\n",
       "    </tr>\n",
       "    <tr>\n",
       "      <th>1</th>\n",
       "      <td>val_1.JPEG</td>\n",
       "      <td>n04067472</td>\n",
       "    </tr>\n",
       "    <tr>\n",
       "      <th>2</th>\n",
       "      <td>val_2.JPEG</td>\n",
       "      <td>n04070727</td>\n",
       "    </tr>\n",
       "  </tbody>\n",
       "</table>\n",
       "</div>"
      ],
      "text/plain": [
       "         File      Class\n",
       "0  val_0.JPEG  n03444034\n",
       "1  val_1.JPEG  n04067472\n",
       "2  val_2.JPEG  n04070727"
      ]
     },
     "execution_count": 8,
     "metadata": {},
     "output_type": "execute_result"
    }
   ],
   "source": [
    "val_data = pd.read_csv('./tiny-imagenet-200/val/val_annotations.txt', sep='\\t', header=None, names=['File', 'Class', 'X', 'Y', 'H', 'W'])\n",
    "val_data.drop(['X', 'Y', 'H', 'W'], axis=1, inplace=True)\n",
    "val_data.head(3)\n"
   ]
  },
  {
   "cell_type": "code",
   "execution_count": 3,
   "metadata": {},
   "outputs": [],
   "source": [
    "# plot diagnostic learning curves\n",
    "def summarize_diagnostics(history):\n",
    "    # plot loss\n",
    "    pyplot.subplot(211)\n",
    "    pyplot.title('Cross Entropy Loss')\n",
    "    pyplot.plot(history.history['loss'], color='blue', label='train')\n",
    "    pyplot.plot(history.history['val_loss'], color='orange', label='test')\n",
    "    # plot accuracy\n",
    "    pyplot.subplot(212)\n",
    "    pyplot.title('Classification Accuracy')\n",
    "    pyplot.plot(history.history['accuracy'], color='blue', label='train')\n",
    "    pyplot.plot(history.history['val_accuracy'], color='orange', label='test')\n",
    "    # save plot to file\n",
    "    filename = sys.argv[0].split('/')[-1]\n",
    "    pyplot.savefig(filename + '_plot.png')\n",
    "    pyplot.show()\n",
    "    pyplot.close()\n"
   ]
  },
  {
   "cell_type": "code",
   "execution_count": 4,
   "metadata": {},
   "outputs": [],
   "source": [
    "# run the test harness for evaluating a model\n",
    "def run_test_harness(model):\n",
    "    # compile model\n",
    "    model.compile(loss='categorical_crossentropy',optimizer='adam',\n",
    "              metrics=['accuracy'])\n",
    "    # create data generators\n",
    "    train_datagen = ImageDataGenerator(rescale=1.0/255.0,\n",
    "        width_shift_range=0.1, height_shift_range=0.1, horizontal_flip=True)\n",
    "    test_datagen = ImageDataGenerator(rescale=1.0/255.0)\n",
    "    # prepare iterators\n",
    "    train_it = train_datagen.flow_from_directory( r'./tiny-imagenet-200/train/', target_size=(64, 64), color_mode='rgb', \n",
    "                                                 batch_size=256, class_mode='categorical', shuffle=True, seed=42)\n",
    "\n",
    "    test_it = test_datagen.flow_from_dataframe(val_data, directory='./tiny-imagenet-200/val/images/', x_col='File', y_col='Class', target_size=(64, 64),\n",
    "                                                    color_mode='rgb', class_mode='categorical', batch_size=256, shuffle=True, seed=42)\n",
    "\n",
    "    # Create EarlyStopping callback which stopps after 5 epochs of non-increasing accuracy\n",
    "    early = EarlyStopping(monitor='val_accuracy', min_delta=0, patience=10, verbose=1, mode='auto')\n",
    "    # fit model\n",
    "    history = model.fit(train_it, steps_per_epoch=200,\n",
    "        validation_data=test_it, validation_steps=20, epochs=25, callbacks=[early])\n",
    "    # evaluate model\n",
    "    _, acc = model.evaluate(test_it, steps=len(test_it))\n",
    "    print('Test Accuracy > %.3f' % (acc * 100.0))\n",
    "    # learning curves\n",
    "    summarize_diagnostics(history)\n"
   ]
  },
  {
   "cell_type": "markdown",
   "metadata": {},
   "source": [
    "## Create model with 2 VGG blocks"
   ]
  },
  {
   "cell_type": "code",
   "execution_count": 6,
   "metadata": {},
   "outputs": [],
   "source": [
    "# define a cnn model with two VGG blocks\n",
    "def define_two_blocks_model():\n",
    "    model = Sequential()\n",
    "    model.add(Conv2D(64, (3, 3), activation='relu', kernel_initializer='he_uniform', padding='same', input_shape=(64, 64, 3)))\n",
    "    model.add(MaxPooling2D((2, 2)))\n",
    "    model.add(Conv2D(128, (3, 3), activation='relu', kernel_initializer='he_uniform', padding='same'))\n",
    "    model.add(MaxPooling2D((2, 2)))\n",
    "    model.add(Flatten())\n",
    "    model.add(Dense(1024, activation='relu'))\n",
    "    model.add(Dense(200, activation='softmax'))\n",
    "    model.summary()\n",
    "    return model"
   ]
  },
  {
   "cell_type": "markdown",
   "metadata": {},
   "source": [
    "## Evaluate 2 blocks model"
   ]
  },
  {
   "cell_type": "code",
   "execution_count": 9,
   "metadata": {
    "scrolled": true
   },
   "outputs": [
    {
     "name": "stdout",
     "output_type": "stream",
     "text": [
      "Model: \"sequential_1\"\n",
      "_________________________________________________________________\n",
      "Layer (type)                 Output Shape              Param #   \n",
      "=================================================================\n",
      "conv2d_2 (Conv2D)            (None, 64, 64, 64)        1792      \n",
      "_________________________________________________________________\n",
      "max_pooling2d_2 (MaxPooling2 (None, 32, 32, 64)        0         \n",
      "_________________________________________________________________\n",
      "conv2d_3 (Conv2D)            (None, 32, 32, 128)       73856     \n",
      "_________________________________________________________________\n",
      "max_pooling2d_3 (MaxPooling2 (None, 16, 16, 128)       0         \n",
      "_________________________________________________________________\n",
      "flatten_1 (Flatten)          (None, 32768)             0         \n",
      "_________________________________________________________________\n",
      "dense_2 (Dense)              (None, 1024)              33555456  \n",
      "_________________________________________________________________\n",
      "dense_3 (Dense)              (None, 200)               205000    \n",
      "=================================================================\n",
      "Total params: 33,836,104\n",
      "Trainable params: 33,836,104\n",
      "Non-trainable params: 0\n",
      "_________________________________________________________________\n",
      "Found 100000 images belonging to 200 classes.\n",
      "Found 10000 validated image filenames belonging to 200 classes.\n",
      "Epoch 1/25\n",
      "200/200 [==============================] - 113s 563ms/step - loss: 5.4386 - accuracy: 0.0275 - val_loss: 4.7249 - val_accuracy: 0.0627\n",
      "Epoch 2/25\n",
      "200/200 [==============================] - 112s 561ms/step - loss: 4.4347 - accuracy: 0.0932 - val_loss: 4.2333 - val_accuracy: 0.1146\n",
      "Epoch 3/25\n",
      "200/200 [==============================] - 112s 561ms/step - loss: 4.1227 - accuracy: 0.1336 - val_loss: 4.0294 - val_accuracy: 0.1437\n",
      "Epoch 4/25\n",
      "200/200 [==============================] - 112s 560ms/step - loss: 3.9296 - accuracy: 0.1603 - val_loss: 3.9170 - val_accuracy: 0.1625\n",
      "Epoch 5/25\n",
      "200/200 [==============================] - 113s 563ms/step - loss: 3.7847 - accuracy: 0.1814 - val_loss: 3.8638 - val_accuracy: 0.1811\n",
      "Epoch 6/25\n",
      "200/200 [==============================] - 106s 531ms/step - loss: 3.6434 - accuracy: 0.2058 - val_loss: 3.7079 - val_accuracy: 0.1852\n",
      "Epoch 7/25\n",
      "200/200 [==============================] - 103s 515ms/step - loss: 3.5459 - accuracy: 0.2181 - val_loss: 3.6141 - val_accuracy: 0.2098\n",
      "Epoch 8/25\n",
      "200/200 [==============================] - 103s 514ms/step - loss: 3.4443 - accuracy: 0.2361 - val_loss: 3.5837 - val_accuracy: 0.2158\n",
      "Epoch 9/25\n",
      "200/200 [==============================] - 109s 547ms/step - loss: 3.3636 - accuracy: 0.2485 - val_loss: 3.5962 - val_accuracy: 0.2207\n",
      "Epoch 10/25\n",
      "200/200 [==============================] - 111s 557ms/step - loss: 3.2961 - accuracy: 0.2619 - val_loss: 3.5072 - val_accuracy: 0.2289\n",
      "Epoch 11/25\n",
      "200/200 [==============================] - 111s 556ms/step - loss: 3.2378 - accuracy: 0.2739 - val_loss: 3.4640 - val_accuracy: 0.2396\n",
      "Epoch 12/25\n",
      "200/200 [==============================] - 111s 557ms/step - loss: 3.1831 - accuracy: 0.2823 - val_loss: 3.5230 - val_accuracy: 0.2264\n",
      "Epoch 13/25\n",
      "200/200 [==============================] - 112s 558ms/step - loss: 3.1171 - accuracy: 0.2921 - val_loss: 3.4441 - val_accuracy: 0.2445\n",
      "Epoch 14/25\n",
      "200/200 [==============================] - 111s 557ms/step - loss: 3.0722 - accuracy: 0.2981 - val_loss: 3.4370 - val_accuracy: 0.2445\n",
      "Epoch 15/25\n",
      "200/200 [==============================] - 112s 558ms/step - loss: 3.0120 - accuracy: 0.3114 - val_loss: 3.3305 - val_accuracy: 0.2732\n",
      "Epoch 16/25\n",
      "200/200 [==============================] - 112s 559ms/step - loss: 2.9603 - accuracy: 0.3187 - val_loss: 3.3951 - val_accuracy: 0.2572\n",
      "Epoch 17/25\n",
      "200/200 [==============================] - 112s 558ms/step - loss: 2.9220 - accuracy: 0.3249 - val_loss: 3.3789 - val_accuracy: 0.2695\n",
      "Epoch 18/25\n",
      "200/200 [==============================] - 112s 558ms/step - loss: 2.8650 - accuracy: 0.3377 - val_loss: 3.3078 - val_accuracy: 0.2715\n",
      "Epoch 19/25\n",
      "200/200 [==============================] - 112s 559ms/step - loss: 2.8270 - accuracy: 0.3407 - val_loss: 3.4589 - val_accuracy: 0.2580\n",
      "Epoch 20/25\n",
      "200/200 [==============================] - 112s 559ms/step - loss: 2.7922 - accuracy: 0.3485 - val_loss: 3.3476 - val_accuracy: 0.2760\n",
      "Epoch 21/25\n",
      "200/200 [==============================] - 112s 559ms/step - loss: 2.7520 - accuracy: 0.3560 - val_loss: 3.4575 - val_accuracy: 0.2609\n",
      "Epoch 22/25\n",
      "200/200 [==============================] - 112s 559ms/step - loss: 2.7005 - accuracy: 0.3651 - val_loss: 3.3095 - val_accuracy: 0.2725\n",
      "Epoch 23/25\n",
      "200/200 [==============================] - 112s 558ms/step - loss: 2.6741 - accuracy: 0.3731 - val_loss: 3.3766 - val_accuracy: 0.2756\n",
      "Epoch 24/25\n",
      "200/200 [==============================] - 112s 560ms/step - loss: 2.6310 - accuracy: 0.3791 - val_loss: 3.3697 - val_accuracy: 0.2848\n",
      "Epoch 25/25\n",
      "200/200 [==============================] - 112s 560ms/step - loss: 2.5875 - accuracy: 0.3878 - val_loss: 3.3524 - val_accuracy: 0.2725\n",
      "40/40 [==============================] - 6s 151ms/step - loss: 3.3365 - accuracy: 0.2784\n",
      "Test Accuracy > 27.840\n"
     ]
    },
    {
     "data": {
      "image/png": "[encoded data removed]",
      "text/plain": [
       "<Figure size 432x288 with 2 Axes>"
      ]
     },
     "metadata": {
      "needs_background": "light"
     },
     "output_type": "display_data"
    }
   ],
   "source": [
    "model2 = define_two_blocks_model()\n",
    "run_test_harness(model2)"
   ]
  },
  {
   "cell_type": "code",
   "execution_count": 10,
   "metadata": {},
   "outputs": [],
   "source": [
    "model2.save('2blocks-cnn.h5')"
   ]
  }
 ],
 "metadata": {
  "kernelspec": {
   "display_name": "Python 3",
   "language": "python",
   "name": "python3"
  },
  "language_info": {
   "codemirror_mode": {
    "name": "ipython",
    "version": 3
   },
   "file_extension": ".py",
   "mimetype": "text/x-python",
   "name": "python",
   "nbconvert_exporter": "python",
   "pygments_lexer": "ipython3",
   "version": "3.6.9"
  }
 },
 "nbformat": 4,
 "nbformat_minor": 2
}
